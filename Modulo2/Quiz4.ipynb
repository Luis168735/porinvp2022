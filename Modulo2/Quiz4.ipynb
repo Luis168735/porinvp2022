{
 "cells": [
  {
   "cell_type": "markdown",
   "metadata": {},
   "source": [
    "El rendimiento esperado de XYZ es del 12%, y una desviación estándar del 9%. ABC tiene un rendimiento esperado del 18%, y desviación estándar del 25%. ¿Cuál es el rendimiento esperado en un portafolio cuyos pesos son wXYZ=0.3 y wABC=0.7? "
   ]
  },
  {
   "cell_type": "code",
   "execution_count": 1,
   "metadata": {},
   "outputs": [],
   "source": [
    "e_xyz = 0.12\n",
    "e_abc = 0.18\n",
    "s_xyz = 0.09\n",
    "s_abc = 0.25\n",
    "w_xyz = 0.3\n",
    "w_abc = 0.7"
   ]
  },
  {
   "cell_type": "code",
   "execution_count": 2,
   "metadata": {},
   "outputs": [
    {
     "data": {
      "text/plain": [
       "0.162"
      ]
     },
     "execution_count": 2,
     "metadata": {},
     "output_type": "execute_result"
    }
   ],
   "source": [
    "ep = w_xyz * e_xyz + w_abc * e_abc\n",
    "ep"
   ]
  },
  {
   "cell_type": "markdown",
   "metadata": {},
   "source": [
    "Si la correlación entre los rendimientos de XYZ y ABC es de 0.2, ¿cuál es la volatilidad de los rendimientos en un portafolio cuyos pesos son wXYZ=0.3 y wABC=0.7? "
   ]
  },
  {
   "cell_type": "code",
   "execution_count": 3,
   "metadata": {},
   "outputs": [],
   "source": [
    "r = 0.2"
   ]
  },
  {
   "cell_type": "code",
   "execution_count": 5,
   "metadata": {},
   "outputs": [
    {
     "data": {
      "text/plain": [
       "0.1823293722909175"
      ]
     },
     "execution_count": 5,
     "metadata": {},
     "output_type": "execute_result"
    }
   ],
   "source": [
    "sp = ((w_xyz * s_xyz)**2 + (w_abc * s_abc)**2 + 2 * w_xyz * w_abc * r * s_abc * s_xyz)**0.5\n",
    "sp"
   ]
  },
  {
   "cell_type": "code",
   "execution_count": null,
   "metadata": {},
   "outputs": [],
   "source": []
  }
 ],
 "metadata": {
  "kernelspec": {
   "display_name": "Python 3",
   "language": "python",
   "name": "python3"
  },
  "language_info": {
   "codemirror_mode": {
    "name": "ipython",
    "version": 3
   },
   "file_extension": ".py",
   "mimetype": "text/x-python",
   "name": "python",
   "nbconvert_exporter": "python",
   "pygments_lexer": "ipython3",
   "version": "3.7.6"
  }
 },
 "nbformat": 4,
 "nbformat_minor": 4
}
