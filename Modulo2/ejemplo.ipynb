{
 "cells": [
  {
   "cell_type": "code",
   "execution_count": 1,
   "metadata": {},
   "outputs": [],
   "source": [
    "# Importar paquetes\n",
    "import pandas_datareader.data as web\n",
    "import pandas as pd\n",
    "import numpy as np\n",
    "%matplotlib inline"
   ]
  },
  {
   "cell_type": "code",
   "execution_count": 2,
   "metadata": {},
   "outputs": [],
   "source": [
    "# Función para descargar precios de cierre ajustados:\n",
    "def get_adj_closes(tickers, start_date=None, end_date=None):\n",
    "    # Fecha inicio por defecto (start_date='2010-01-01') y fecha fin por defecto (end_date=today)\n",
    "    # Descargamos DataFrame con todos los datos\n",
    "    closes = web.DataReader(name=tickers, data_source='yahoo', start=start_date, end=end_date)\n",
    "    # Solo necesitamos los precios ajustados en el cierre\n",
    "    closes = closes['Adj Close']\n",
    "    # Se ordenan los índices de manera ascendente\n",
    "    closes.sort_index(inplace=True)\n",
    "    return closes"
   ]
  },
  {
   "cell_type": "code",
   "execution_count": 3,
   "metadata": {},
   "outputs": [],
   "source": [
    "# Información\n",
    "tickers = [\"MSFT\", \"AAPL\", \"AMZN\", \"FB\", \"GOOGL\"]\n",
    "start = \"2015-01-01\""
   ]
  },
  {
   "cell_type": "code",
   "execution_count": 4,
   "metadata": {},
   "outputs": [],
   "source": [
    "# Precios diarios ajustados en el cierre\n",
    "closes = get_adj_closes(tickers=tickers,\n",
    "                        start_date=start)"
   ]
  },
  {
   "cell_type": "code",
   "execution_count": 5,
   "metadata": {},
   "outputs": [
    {
     "data": {
      "text/html": [
       "<div>\n",
       "<style scoped>\n",
       "    .dataframe tbody tr th:only-of-type {\n",
       "        vertical-align: middle;\n",
       "    }\n",
       "\n",
       "    .dataframe tbody tr th {\n",
       "        vertical-align: top;\n",
       "    }\n",
       "\n",
       "    .dataframe thead th {\n",
       "        text-align: right;\n",
       "    }\n",
       "</style>\n",
       "<table border=\"1\" class=\"dataframe\">\n",
       "  <thead>\n",
       "    <tr style=\"text-align: right;\">\n",
       "      <th>Symbols</th>\n",
       "      <th>MSFT</th>\n",
       "      <th>AAPL</th>\n",
       "      <th>AMZN</th>\n",
       "      <th>FB</th>\n",
       "      <th>GOOGL</th>\n",
       "    </tr>\n",
       "    <tr>\n",
       "      <th>Date</th>\n",
       "      <th></th>\n",
       "      <th></th>\n",
       "      <th></th>\n",
       "      <th></th>\n",
       "      <th></th>\n",
       "    </tr>\n",
       "  </thead>\n",
       "  <tbody>\n",
       "    <tr>\n",
       "      <th>2015-01-02</th>\n",
       "      <td>41.108837</td>\n",
       "      <td>24.714504</td>\n",
       "      <td>308.519989</td>\n",
       "      <td>78.449997</td>\n",
       "      <td>529.549988</td>\n",
       "    </tr>\n",
       "    <tr>\n",
       "      <th>2015-01-05</th>\n",
       "      <td>40.730808</td>\n",
       "      <td>24.018261</td>\n",
       "      <td>302.190002</td>\n",
       "      <td>77.190002</td>\n",
       "      <td>519.460022</td>\n",
       "    </tr>\n",
       "    <tr>\n",
       "      <th>2015-01-06</th>\n",
       "      <td>40.132988</td>\n",
       "      <td>24.020527</td>\n",
       "      <td>295.290009</td>\n",
       "      <td>76.150002</td>\n",
       "      <td>506.640015</td>\n",
       "    </tr>\n",
       "    <tr>\n",
       "      <th>2015-01-07</th>\n",
       "      <td>40.642895</td>\n",
       "      <td>24.357344</td>\n",
       "      <td>298.420013</td>\n",
       "      <td>76.150002</td>\n",
       "      <td>505.149994</td>\n",
       "    </tr>\n",
       "    <tr>\n",
       "      <th>2015-01-08</th>\n",
       "      <td>41.838528</td>\n",
       "      <td>25.293209</td>\n",
       "      <td>300.459991</td>\n",
       "      <td>78.180000</td>\n",
       "      <td>506.910004</td>\n",
       "    </tr>\n",
       "  </tbody>\n",
       "</table>\n",
       "</div>"
      ],
      "text/plain": [
       "Symbols          MSFT       AAPL        AMZN         FB       GOOGL\n",
       "Date                                                               \n",
       "2015-01-02  41.108837  24.714504  308.519989  78.449997  529.549988\n",
       "2015-01-05  40.730808  24.018261  302.190002  77.190002  519.460022\n",
       "2015-01-06  40.132988  24.020527  295.290009  76.150002  506.640015\n",
       "2015-01-07  40.642895  24.357344  298.420013  76.150002  505.149994\n",
       "2015-01-08  41.838528  25.293209  300.459991  78.180000  506.910004"
      ]
     },
     "execution_count": 5,
     "metadata": {},
     "output_type": "execute_result"
    }
   ],
   "source": [
    "closes.head()"
   ]
  },
  {
   "cell_type": "code",
   "execution_count": 6,
   "metadata": {},
   "outputs": [
    {
     "data": {
      "text/html": [
       "<div>\n",
       "<style scoped>\n",
       "    .dataframe tbody tr th:only-of-type {\n",
       "        vertical-align: middle;\n",
       "    }\n",
       "\n",
       "    .dataframe tbody tr th {\n",
       "        vertical-align: top;\n",
       "    }\n",
       "\n",
       "    .dataframe thead th {\n",
       "        text-align: right;\n",
       "    }\n",
       "</style>\n",
       "<table border=\"1\" class=\"dataframe\">\n",
       "  <thead>\n",
       "    <tr style=\"text-align: right;\">\n",
       "      <th>Symbols</th>\n",
       "      <th>MSFT</th>\n",
       "      <th>AAPL</th>\n",
       "      <th>AMZN</th>\n",
       "      <th>FB</th>\n",
       "      <th>GOOGL</th>\n",
       "    </tr>\n",
       "    <tr>\n",
       "      <th>Date</th>\n",
       "      <th></th>\n",
       "      <th></th>\n",
       "      <th></th>\n",
       "      <th></th>\n",
       "      <th></th>\n",
       "    </tr>\n",
       "  </thead>\n",
       "  <tbody>\n",
       "    <tr>\n",
       "      <th>2015-01-05</th>\n",
       "      <td>-0.009196</td>\n",
       "      <td>-0.028171</td>\n",
       "      <td>-0.020517</td>\n",
       "      <td>-0.016061</td>\n",
       "      <td>-0.019054</td>\n",
       "    </tr>\n",
       "    <tr>\n",
       "      <th>2015-01-06</th>\n",
       "      <td>-0.014677</td>\n",
       "      <td>0.000094</td>\n",
       "      <td>-0.022833</td>\n",
       "      <td>-0.013473</td>\n",
       "      <td>-0.024679</td>\n",
       "    </tr>\n",
       "    <tr>\n",
       "      <th>2015-01-07</th>\n",
       "      <td>0.012705</td>\n",
       "      <td>0.014022</td>\n",
       "      <td>0.010600</td>\n",
       "      <td>0.000000</td>\n",
       "      <td>-0.002941</td>\n",
       "    </tr>\n",
       "    <tr>\n",
       "      <th>2015-01-08</th>\n",
       "      <td>0.029418</td>\n",
       "      <td>0.038422</td>\n",
       "      <td>0.006836</td>\n",
       "      <td>0.026658</td>\n",
       "      <td>0.003484</td>\n",
       "    </tr>\n",
       "    <tr>\n",
       "      <th>2015-01-09</th>\n",
       "      <td>-0.008405</td>\n",
       "      <td>0.001072</td>\n",
       "      <td>-0.011749</td>\n",
       "      <td>-0.005628</td>\n",
       "      <td>-0.012211</td>\n",
       "    </tr>\n",
       "  </tbody>\n",
       "</table>\n",
       "</div>"
      ],
      "text/plain": [
       "Symbols         MSFT      AAPL      AMZN        FB     GOOGL\n",
       "Date                                                        \n",
       "2015-01-05 -0.009196 -0.028171 -0.020517 -0.016061 -0.019054\n",
       "2015-01-06 -0.014677  0.000094 -0.022833 -0.013473 -0.024679\n",
       "2015-01-07  0.012705  0.014022  0.010600  0.000000 -0.002941\n",
       "2015-01-08  0.029418  0.038422  0.006836  0.026658  0.003484\n",
       "2015-01-09 -0.008405  0.001072 -0.011749 -0.005628 -0.012211"
      ]
     },
     "execution_count": 6,
     "metadata": {},
     "output_type": "execute_result"
    }
   ],
   "source": [
    "ret = closes.pct_change().dropna()\n",
    "ret.head()"
   ]
  },
  {
   "cell_type": "code",
   "execution_count": 14,
   "metadata": {},
   "outputs": [
    {
     "data": {
      "text/html": [
       "<div>\n",
       "<style scoped>\n",
       "    .dataframe tbody tr th:only-of-type {\n",
       "        vertical-align: middle;\n",
       "    }\n",
       "\n",
       "    .dataframe tbody tr th {\n",
       "        vertical-align: top;\n",
       "    }\n",
       "\n",
       "    .dataframe thead th {\n",
       "        text-align: right;\n",
       "    }\n",
       "</style>\n",
       "<table border=\"1\" class=\"dataframe\">\n",
       "  <thead>\n",
       "    <tr style=\"text-align: right;\">\n",
       "      <th>Symbols</th>\n",
       "      <th>MSFT</th>\n",
       "      <th>AAPL</th>\n",
       "      <th>AMZN</th>\n",
       "      <th>FB</th>\n",
       "      <th>GOOGL</th>\n",
       "    </tr>\n",
       "    <tr>\n",
       "      <th>Symbols</th>\n",
       "      <th></th>\n",
       "      <th></th>\n",
       "      <th></th>\n",
       "      <th></th>\n",
       "      <th></th>\n",
       "    </tr>\n",
       "  </thead>\n",
       "  <tbody>\n",
       "    <tr>\n",
       "      <th>MSFT</th>\n",
       "      <td>0.000291</td>\n",
       "      <td>0.000214</td>\n",
       "      <td>0.000213</td>\n",
       "      <td>0.000211</td>\n",
       "      <td>0.000210</td>\n",
       "    </tr>\n",
       "    <tr>\n",
       "      <th>AAPL</th>\n",
       "      <td>0.000214</td>\n",
       "      <td>0.000335</td>\n",
       "      <td>0.000196</td>\n",
       "      <td>0.000210</td>\n",
       "      <td>0.000185</td>\n",
       "    </tr>\n",
       "    <tr>\n",
       "      <th>AMZN</th>\n",
       "      <td>0.000213</td>\n",
       "      <td>0.000196</td>\n",
       "      <td>0.000375</td>\n",
       "      <td>0.000237</td>\n",
       "      <td>0.000206</td>\n",
       "    </tr>\n",
       "    <tr>\n",
       "      <th>FB</th>\n",
       "      <td>0.000211</td>\n",
       "      <td>0.000210</td>\n",
       "      <td>0.000237</td>\n",
       "      <td>0.000439</td>\n",
       "      <td>0.000228</td>\n",
       "    </tr>\n",
       "    <tr>\n",
       "      <th>GOOGL</th>\n",
       "      <td>0.000210</td>\n",
       "      <td>0.000185</td>\n",
       "      <td>0.000206</td>\n",
       "      <td>0.000228</td>\n",
       "      <td>0.000283</td>\n",
       "    </tr>\n",
       "  </tbody>\n",
       "</table>\n",
       "</div>"
      ],
      "text/plain": [
       "Symbols      MSFT      AAPL      AMZN        FB     GOOGL\n",
       "Symbols                                                  \n",
       "MSFT     0.000291  0.000214  0.000213  0.000211  0.000210\n",
       "AAPL     0.000214  0.000335  0.000196  0.000210  0.000185\n",
       "AMZN     0.000213  0.000196  0.000375  0.000237  0.000206\n",
       "FB       0.000211  0.000210  0.000237  0.000439  0.000228\n",
       "GOOGL    0.000210  0.000185  0.000206  0.000228  0.000283"
      ]
     },
     "execution_count": 14,
     "metadata": {},
     "output_type": "execute_result"
    }
   ],
   "source": [
    "# Covarianza\n",
    "sigma = ret.cov()\n",
    "sigma"
   ]
  },
  {
   "cell_type": "code",
   "execution_count": 8,
   "metadata": {},
   "outputs": [
    {
     "data": {
      "text/html": [
       "<div>\n",
       "<style scoped>\n",
       "    .dataframe tbody tr th:only-of-type {\n",
       "        vertical-align: middle;\n",
       "    }\n",
       "\n",
       "    .dataframe tbody tr th {\n",
       "        vertical-align: top;\n",
       "    }\n",
       "\n",
       "    .dataframe thead th {\n",
       "        text-align: right;\n",
       "    }\n",
       "</style>\n",
       "<table border=\"1\" class=\"dataframe\">\n",
       "  <thead>\n",
       "    <tr style=\"text-align: right;\">\n",
       "      <th>Symbols</th>\n",
       "      <th>MSFT</th>\n",
       "      <th>AAPL</th>\n",
       "      <th>AMZN</th>\n",
       "      <th>FB</th>\n",
       "      <th>GOOGL</th>\n",
       "    </tr>\n",
       "    <tr>\n",
       "      <th>Symbols</th>\n",
       "      <th></th>\n",
       "      <th></th>\n",
       "      <th></th>\n",
       "      <th></th>\n",
       "      <th></th>\n",
       "    </tr>\n",
       "  </thead>\n",
       "  <tbody>\n",
       "    <tr>\n",
       "      <th>MSFT</th>\n",
       "      <td>1.000000</td>\n",
       "      <td>0.684077</td>\n",
       "      <td>0.644077</td>\n",
       "      <td>0.589201</td>\n",
       "      <td>0.729836</td>\n",
       "    </tr>\n",
       "    <tr>\n",
       "      <th>AAPL</th>\n",
       "      <td>0.684077</td>\n",
       "      <td>1.000000</td>\n",
       "      <td>0.553423</td>\n",
       "      <td>0.548819</td>\n",
       "      <td>0.601070</td>\n",
       "    </tr>\n",
       "    <tr>\n",
       "      <th>AMZN</th>\n",
       "      <td>0.644077</td>\n",
       "      <td>0.553423</td>\n",
       "      <td>1.000000</td>\n",
       "      <td>0.584105</td>\n",
       "      <td>0.632216</td>\n",
       "    </tr>\n",
       "    <tr>\n",
       "      <th>FB</th>\n",
       "      <td>0.589201</td>\n",
       "      <td>0.548819</td>\n",
       "      <td>0.584105</td>\n",
       "      <td>1.000000</td>\n",
       "      <td>0.646589</td>\n",
       "    </tr>\n",
       "    <tr>\n",
       "      <th>GOOGL</th>\n",
       "      <td>0.729836</td>\n",
       "      <td>0.601070</td>\n",
       "      <td>0.632216</td>\n",
       "      <td>0.646589</td>\n",
       "      <td>1.000000</td>\n",
       "    </tr>\n",
       "  </tbody>\n",
       "</table>\n",
       "</div>"
      ],
      "text/plain": [
       "Symbols      MSFT      AAPL      AMZN        FB     GOOGL\n",
       "Symbols                                                  \n",
       "MSFT     1.000000  0.684077  0.644077  0.589201  0.729836\n",
       "AAPL     0.684077  1.000000  0.553423  0.548819  0.601070\n",
       "AMZN     0.644077  0.553423  1.000000  0.584105  0.632216\n",
       "FB       0.589201  0.548819  0.584105  1.000000  0.646589\n",
       "GOOGL    0.729836  0.601070  0.632216  0.646589  1.000000"
      ]
     },
     "execution_count": 8,
     "metadata": {},
     "output_type": "execute_result"
    }
   ],
   "source": [
    "# Correlación\n",
    "ret.corr()"
   ]
  },
  {
   "cell_type": "code",
   "execution_count": 12,
   "metadata": {},
   "outputs": [
    {
     "data": {
      "text/plain": [
       "Symbols\n",
       "MSFT     0.001249\n",
       "AAPL     0.001226\n",
       "AMZN     0.001456\n",
       "FB       0.000766\n",
       "GOOGL    0.001043\n",
       "dtype: float64"
      ]
     },
     "execution_count": 12,
     "metadata": {},
     "output_type": "execute_result"
    }
   ],
   "source": [
    "eind = ret.mean()\n",
    "eind"
   ]
  },
  {
   "cell_type": "code",
   "execution_count": 10,
   "metadata": {},
   "outputs": [],
   "source": [
    "# Portafolio 25% MSFT, 15% AAPL, 18% AMZN, 12% FB, 30% GOOGL\n",
    "w = np.array([0.25, 0.15, 0.18, 0.12, 0.3])"
   ]
  },
  {
   "cell_type": "code",
   "execution_count": 13,
   "metadata": {},
   "outputs": [
    {
     "data": {
      "text/plain": [
       "0.0011629064808026677"
      ]
     },
     "execution_count": 13,
     "metadata": {},
     "output_type": "execute_result"
    }
   ],
   "source": [
    "# Rendimiento esperado port\n",
    "ep = eind.T.dot(w)\n",
    "ep"
   ]
  },
  {
   "cell_type": "code",
   "execution_count": 16,
   "metadata": {},
   "outputs": [
    {
     "data": {
      "text/plain": [
       "0.015251994629961341"
      ]
     },
     "execution_count": 16,
     "metadata": {},
     "output_type": "execute_result"
    }
   ],
   "source": [
    "# Volatilidad port\n",
    "sp = (w.T.dot(sigma).dot(w))**.5\n",
    "sp"
   ]
  },
  {
   "cell_type": "code",
   "execution_count": null,
   "metadata": {},
   "outputs": [],
   "source": []
  }
 ],
 "metadata": {
  "kernelspec": {
   "display_name": "Python 3",
   "language": "python",
   "name": "python3"
  },
  "language_info": {
   "codemirror_mode": {
    "name": "ipython",
    "version": 3
   },
   "file_extension": ".py",
   "mimetype": "text/x-python",
   "name": "python",
   "nbconvert_exporter": "python",
   "pygments_lexer": "ipython3",
   "version": "3.7.6"
  }
 },
 "nbformat": 4,
 "nbformat_minor": 4
}
