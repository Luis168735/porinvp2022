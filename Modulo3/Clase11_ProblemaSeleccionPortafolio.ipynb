{
 "cells": [
  {
   "cell_type": "markdown",
   "metadata": {},
   "source": [
    "# Problema de selección de portafolio con preferencias media-varianza\n",
    "\n",
    "<img style=\"float: right; margin: 0px 0px 15px 15px;\" src=\"https://encrypted-tbn0.gstatic.com/images?q=tbn:ANd9GcTuJvMFl4gvu5hxxkiWSANNVUAYO-oVpCJCivsl6Vllt6m6J9qUNw\" width=\"400px\" height=\"400px\" />\n",
    "\n",
    "En la clase pasada hablamos acerca de:\n",
    "- preferencias,\n",
    "- funciones de utilidad,\n",
    "- la actitud de los inversionistas de cara al riesgo,\n",
    "- la aversión al riesgo, entre otros.\n",
    "\n",
    "Todas ellas son piezas que necesitamos para responder la pregunta de ¿cómo un inversionista toma la decisión óptima de selección de portafolio?\n",
    "\n",
    "En esta clase al fin estamos listos para ensamblar estos conceptos y escribir el problema de selección de portafolios. \n",
    "\n",
    "En el camino aprenderemos acerca del concepto de **utilidad esperada**, que nos permite trabajar con incertidumbre en el modelado económico (una de las ideas más importantes en economía). Esta idea tiene más de 60 años, y básicamente dice que los individuos, cuando están de cara a incertidumbre, maximizan el valor esperado de su utilidad (solo cierto si somos homo economicus). \n",
    "\n",
    "Además del concepto de utilidad esperada, aprenderemos acerca de **preferencias media-varianza**. Es decir, supondremos que los inversionistas toman decisiones basados en un tipo particular de preferencias.\n",
    "\n",
    "Con lo anterior, estableceremos el problema de selección de portafolios.\n",
    "\n",
    "**Objetivos:**\n",
    "\n",
    "- ¿Qué es utilidad esperada?\n",
    "- ¿Qué son las preferencias media-varianza?\n",
    "- Funciones de utilidad media-varianza.\n",
    "- Enunciado y solución del problema básico de selección de portafolio.\n",
    "\n",
    "*Referencia:*\n",
    "- Notas del curso \"Portfolio Selection and Risk Management\", Rice University, disponible en Coursera.\n",
    "___"
   ]
  },
  {
   "cell_type": "markdown",
   "metadata": {},
   "source": [
    "## 1. Utilidad esperada\n",
    "- Básicamente combina las probabilidades de los resultados con cómo los inversionistas se sienten con dichos resultados.\n",
    "- En otras palabras, la utilidad esperada multiplica la probabilidad de suceso de un evento con la utilidad que genera dicho evento.\n",
    "\n",
    "Recordemos que las *funciones de utilidad* permiten a los inversionistas expresar cómo se sienten con los resultados, especialmente en los malos ratos. \n",
    "\n",
    "Entonces la *utilidad esperada* es una herramienta que nos permite cuantificar cómo nos sentimos en nuestros malos momentos económicos, capturando el riesgo con la probabilidad de ocurrencia de dichos malos momentos. "
   ]
  },
  {
   "cell_type": "markdown",
   "metadata": {},
   "source": [
    "Dado este marco de trabajo, cualquier decisión se puede escribir como la maximización de la utilidad esperada:\n",
    "\\begin{align}\n",
    "\\max_{\\theta} & \\quad E[U(W)], \\\\\n",
    "\\end{align}\n",
    "mediante la escogencia de cierta variable $\\theta$ (gastos, planes de ahorro, compra de activos, planes de producción, etc.).\n",
    "\n",
    "Para nuestros propósitos, la variable de decisión serán los pesos o ponderaciones del portafolio.\n",
    "\n",
    "Adicionalmente, en el contexto de la decisión de distribución de la riqueza entre activos, el problema de maximización tendrá comúnmente las siguientes restricciones:\n",
    "- universo de inversión,\n",
    "- posición en los activos dados."
   ]
  },
  {
   "cell_type": "markdown",
   "metadata": {},
   "source": [
    "**Ejemplo.** \n",
    "\n",
    "Supongamos que un inversionista debe determinar la composición óptima de su portafolio, que contiene activos y bonos. Supongamos que son los únicos instrumentos disponibles.\n",
    "\n",
    "Sean:\n",
    "- $w_s$: peso o ponderación de activos en el portafolio,\n",
    "- $w_b$: peso o ponderación de bonos en el portafolio,\n",
    "- $r_s$: rendimiento de los activos, y\n",
    "- $r_b$: rendimiento de los bonos.\n",
    "\n",
    "De manera que podemos escribir el problema de selección de portafolios como la maximización de la utilidad esperade de nuestra riqueza futura, la cual dependerá de nuestros rendimientos:\n",
    " \n",
    "\\begin{align}\n",
    "\\max_{w_s,w_b} &\\quad E[U(W)]\\\\\n",
    "\\text{s. a.}   &\\quad W=W_0(1+w_sr_s+w_br_b)\\\\\n",
    "               &\\quad w_s+w_b=1\\\\\n",
    "               &\\quad w_s,w_b\\geq0\n",
    "\\end{align}\n",
    "\n",
    "\n",
    "Preguntas:\n",
    "- ¿Qué significan las restricciones?\n",
    "- Ya que tenemos planteado este problema básico, ¿qué haría falta para empezar a resolverlo?\n",
    "___"
   ]
  },
  {
   "cell_type": "markdown",
   "metadata": {},
   "source": [
    "## 2. Preferencias media-varianza\n",
    "\n",
    "### 2.1. Utilidad media-varianza\n",
    "\n",
    "Entonces, ¿qué funciones de utilidad deberíamos de usar en este problema de selección de portafolios?\n",
    "\n",
    "- La respuesta es: **preferencias media-varianza**.\n",
    "- Éstas serán representadas en términos de funciones de utilidad como: **utilidad media-varianza**.\n",
    "\n",
    "Usamos la *utilidad media-varianza* en el problema de selección de portafolios dado que ésta decribe el \"trade-off\" entre riesgo y rendimiento que enfrentan los inversionistas. La *utilidad media-varianza* está dada por la siguiente expresión:\n",
    "\n",
    "$$U=E[r_p]-\\frac{1}{2}\\gamma\\sigma_p^2,$$\n",
    "\n",
    "donde\n",
    "- $E[r_p]$ es el rendimiento esperado del portafolio,\n",
    "- $\\sigma_p^2$ es la varianza del portafolio, y\n",
    "- $\\gamma$ es el coeficiente de aversión al riesgo. "
   ]
  },
  {
   "cell_type": "markdown",
   "metadata": {},
   "source": [
    "#### Intuición acerca de la función de utilidad media-varianza:\n",
    "- Sólo se preocupa por medias :) y varianzas :(.\n",
    "- Incrementa con: rendimiento esperado del portafolio.\n",
    "- Decrece con: varianza del portafolio.\n",
    "- Malos tiempos: rendimientos son bajos y las volatilidades son altas.\n",
    "- Conecta bastante bien con la teoría moderna de portafolios, la cual caracteriza los rendimientos con medias y varianzas únicamente.\n",
    "- Criticada por su limitación: supone que los inversionistas sólo se preocupan por medias y varianzas."
   ]
  },
  {
   "cell_type": "markdown",
   "metadata": {},
   "source": [
    "### 2.2. Curvas de indiferencia\n",
    "\n",
    "*¿Recuerdan las curvas de nivel que se ven en cálculo de varias variables?*\n",
    "- Bien, acá nos servirán para representar la utilidad media-varianza gráficamente.\n",
    "- En el contexto de utilidad media-varianza, las curvas de nivel se llaman **curvas de indiferencia**.\n",
    "\n",
    "Dados ciertos niveles de utilidad $U_1>U_2>U_3$, las curvas de indiferencia relativas a estos niveles de utilidad, son los lugares geométricos en el espacio de rendimiento esperado vs. volatilidad representados por las siguientes expresiones\n",
    "\n",
    "$$U_1=E[r_p]-\\frac{1}{2}\\gamma\\sigma_p^2\\Rightarrow E[r_p]=\\frac{1}{2}\\gamma\\sigma_p^2+U_1,$$\n",
    "\n",
    "$$U_2=E[r_p]-\\frac{1}{2}\\gamma\\sigma_p^2\\Rightarrow E[r_p]=\\frac{1}{2}\\gamma\\sigma_p^2+U_2,$$\n",
    "\n",
    "$$U_3=E[r_p]-\\frac{1}{2}\\gamma\\sigma_p^2\\Rightarrow E[r_p]=\\frac{1}{2}\\gamma\\sigma_p^2+U_3.$$"
   ]
  },
  {
   "cell_type": "markdown",
   "metadata": {},
   "source": [
    "**Gráficamente**"
   ]
  },
  {
   "cell_type": "code",
   "execution_count": 1,
   "metadata": {},
   "outputs": [],
   "source": [
    "# Importar numpy y pyplot\n",
    "import numpy as np\n",
    "import matplotlib.pyplot as plt"
   ]
  },
  {
   "cell_type": "code",
   "execution_count": 4,
   "metadata": {},
   "outputs": [],
   "source": [
    "# Coeficiente de aversión al riesgo (entre 1 y 10 comúnmente)\n",
    "g = 5\n",
    "# Niveles de utilidad\n",
    "U1, U2, U3 = 0.03, 0.1, 0.17\n",
    "# Vector de volatilidades (sugerido 0%-60%)\n",
    "s = np.linspace(0, 0.6)\n",
    "# Curvas de indiferencia\n",
    "er1 = 0.5 * g * s**2 + U1\n",
    "er2 = 0.5 * g * s**2 + U2\n",
    "er3 = 0.5 * g * s**2 + U3"
   ]
  },
  {
   "cell_type": "code",
   "execution_count": 6,
   "metadata": {},
   "outputs": [
    {
     "data": {
      "image/png": "[encoded data removed]",
      "text/plain": [
       "<Figure size 432x288 with 1 Axes>"
      ]
     },
     "metadata": {
      "needs_background": "light"
     },
     "output_type": "display_data"
    }
   ],
   "source": [
    "# Gráfica\n",
    "plt.plot(s, er1, 'g', lw=2, label=f'Curva de indiferencia de nivel $U_1$={U1}')\n",
    "plt.plot(s, er2, 'b', lw=2, label=f'Curva de indiferencia de nivel $U_2$={U2}')\n",
    "plt.plot(s, er3, 'r', lw=2, label=f'Curva de indiferencia de nivel $U_3$={U3}')\n",
    "plt.xlabel(\"Volatilidad $\\sigma$\")\n",
    "plt.ylabel(\"Rendimiento esperado $E[r]$\")\n",
    "plt.legend(loc=\"upper left\", bbox_to_anchor=(1.05, 1))\n",
    "plt.grid()"
   ]
  },
  {
   "cell_type": "markdown",
   "metadata": {},
   "source": [
    "Bueno, ¿y porqué se llaman curvas de indiferencia?, ¿qué representa una cuva de indiferencia?\n",
    "\n",
    "- Porque sobre una misma curva el nivel de utilidad es el mismo (es indiferente).\n",
    "- Son todas las combinaciones de riesgo y rendimiento que producen un mismo nivel de utilidad."
   ]
  },
  {
   "cell_type": "markdown",
   "metadata": {},
   "source": [
    "Volviendo al problema de selección de portafolios, queremos la utilidad más alta.\n",
    "- ¿Cuál de las anteriores curvas de indiferencia corresponde a la utilidad más alta?\n",
    "- Intuitivamente, ¿porqué?\n",
    "- Curvas de indiferencia para niveles de utilidad más altos, estarán...\n",
    "\n",
    "Notamos además que las anteriores curvas de indiferencia son *paralelas* una con otra. Claro, las dibujamos con el mismo coeficiente de aversión al riesgo.\n",
    "\n",
    "$$\\frac{d E[r_p]}{d\\sigma_p}=\\frac{d }{d\\sigma_p}\\left[\\frac{1}{2}\\gamma\\sigma_p^2+U\\right]=\\gamma\\sigma_p.$$\n",
    "\n",
    "¿Cómo cambian estas curvas para coeficientes de aversión al riesgo más altos?"
   ]
  },
  {
   "cell_type": "code",
   "execution_count": 8,
   "metadata": {},
   "outputs": [],
   "source": [
    "# Coeficientes de aversión al riesgo (entre 1 y 10 comúnmente)\n",
    "g1, g2, g3 = 3, 5, 7\n",
    "# Nivel de utilidad\n",
    "U = 0.1\n",
    "# Vector de volatilidades (sugerido 0%-60%)\n",
    "s = np.linspace(0, 0.6)\n",
    "# Curvas de indiferencia\n",
    "er1 = 0.5 * g1 * s**2 + U\n",
    "er2 = 0.5 * g2 * s**2 + U\n",
    "er3 = 0.5 * g3 * s**2 + U"
   ]
  },
  {
   "cell_type": "code",
   "execution_count": 9,
   "metadata": {},
   "outputs": [
    {
     "data": {
      "image/png": "[encoded data removed]",
      "text/plain": [
       "<Figure size 432x288 with 1 Axes>"
      ]
     },
     "metadata": {
      "needs_background": "light"
     },
     "output_type": "display_data"
    }
   ],
   "source": [
    "# Gráfica\n",
    "plt.plot(s, er1, 'g', lw=2, label=f'Curva de indiferencia coef. aversión $\\gamma_1$={g1}')\n",
    "plt.plot(s, er2, 'b', lw=2, label=f'Curva de indiferencia coef. aversión $\\gamma_2$={g2}')\n",
    "plt.plot(s, er3, 'r', lw=2, label=f'Curva de indiferencia coef. aversión $\\gamma_3$={g3}')\n",
    "plt.xlabel(\"Volatilidad $\\sigma$\")\n",
    "plt.ylabel(\"Rendimiento esperado $E[r]$\")\n",
    "plt.legend(loc=\"upper left\", bbox_to_anchor=(1.05, 1))\n",
    "plt.grid()"
   ]
  },
  {
   "cell_type": "markdown",
   "metadata": {},
   "source": [
    "¿Cómo interpretamos las anteriores gráficas?, ¿qué pasa con las personas más aversas al riesgo?\n",
    "- Se puede ver de dos maneras: para un mismo nivel de rendimiento esperado, una persona más aversa al riesgo soporta un nivel menor de riesgo; equivalentemente, para un mismo nivel de riesgo, una persona más aversa al riesgo requerirá un nivel de rendimiento esperado más alto."
   ]
  },
  {
   "cell_type": "markdown",
   "metadata": {},
   "source": [
    "Con todo lo anterior, el problema de selección de portafolios se puede plantear como *encontrar la curva de indeferencia más alta dado el conjunto de oportunidades de inversión y restricciones*."
   ]
  },
  {
   "cell_type": "markdown",
   "metadata": {},
   "source": [
    "## 3. Problema de selección de portafolios: una ilustración\n",
    "\n",
    "Ahora ilustraremos el problema de selección de portafolios con algunos datos. \n",
    "- Por ahora solo queremos ilustrar gráficamente cómo se resuelve este problema. Trabajar en la intuición.\n",
    "- En las siguientes dos clases nos enfocaremos en cómo resolverlo analíticamente.\n",
    "\n",
    "Acá tenemos el rendimiento medio anual y la volatilidad para dos instrumentos usando datos de EU: instrumentos de deuda (bonos) y acciones. Supondremos que el inversionista solo puede invertir en estas dos clases de instrumentos."
   ]
  },
  {
   "cell_type": "code",
   "execution_count": 10,
   "metadata": {},
   "outputs": [
    {
     "name": "stderr",
     "output_type": "stream",
     "text": [
      "/home/esteban/anaconda3/lib/python3.7/importlib/_bootstrap.py:219: RuntimeWarning: numpy.ufunc size changed, may indicate binary incompatibility. Expected 192 from C header, got 216 from PyObject\n",
      "  return f(*args, **kwds)\n"
     ]
    }
   ],
   "source": [
    "# Importamos pandas\n",
    "import pandas as pd"
   ]
  },
  {
   "cell_type": "code",
   "execution_count": 11,
   "metadata": {},
   "outputs": [
    {
     "data": {
      "text/html": [
       "<div>\n",
       "<style scoped>\n",
       "    .dataframe tbody tr th:only-of-type {\n",
       "        vertical-align: middle;\n",
       "    }\n",
       "\n",
       "    .dataframe tbody tr th {\n",
       "        vertical-align: top;\n",
       "    }\n",
       "\n",
       "    .dataframe thead th {\n",
       "        text-align: right;\n",
       "    }\n",
       "</style>\n",
       "<table border=\"1\" class=\"dataframe\">\n",
       "  <thead>\n",
       "    <tr style=\"text-align: right;\">\n",
       "      <th></th>\n",
       "      <th>Mean</th>\n",
       "      <th>Std</th>\n",
       "    </tr>\n",
       "  </thead>\n",
       "  <tbody>\n",
       "    <tr>\n",
       "      <th>Stocks</th>\n",
       "      <td>0.1190</td>\n",
       "      <td>0.1915</td>\n",
       "    </tr>\n",
       "    <tr>\n",
       "      <th>Bonds</th>\n",
       "      <td>0.0591</td>\n",
       "      <td>0.0833</td>\n",
       "    </tr>\n",
       "    <tr>\n",
       "      <th>CorrSB</th>\n",
       "      <td>0.1130</td>\n",
       "      <td>NaN</td>\n",
       "    </tr>\n",
       "  </tbody>\n",
       "</table>\n",
       "</div>"
      ],
      "text/plain": [
       "          Mean     Std\n",
       "Stocks  0.1190  0.1915\n",
       "Bonds   0.0591  0.0833\n",
       "CorrSB  0.1130     NaN"
      ]
     },
     "execution_count": 11,
     "metadata": {},
     "output_type": "execute_result"
    }
   ],
   "source": [
    "# Datos\n",
    "data = pd.DataFrame(index=['Stocks', 'Bonds', 'CorrSB'], columns=['Mean', 'Std'])\n",
    "data['Mean'] = [0.119, 0.0591, 0.113]\n",
    "data['Std'] = [0.1915, 0.0833, None]\n",
    "data"
   ]
  },
  {
   "cell_type": "markdown",
   "metadata": {},
   "source": [
    "Entonces, ¿cuál es la distribución de riqueza óptima?, o más bien, ¿cuál es la composición óptima del portafolio para un inversionista dado su nivel de aversión al riesgo?\n",
    "\n",
    "**Primero.** Recordamos que, para dos activos, podemos trazar la frontera de mínima varianza tomando todas las posibles combinaciones de los dos activos.\n",
    "\n",
    "De nuevo, sean:\n",
    "- $w_s=w$: peso o ponderación de activos en el portafolio,\n",
    "- $w_b=1-w$: peso o ponderación de bonos en el portafolio,\n",
    "- $r_s$: rendimiento de los activos, y\n",
    "- $r_b$: rendimiento de los bonos.\n",
    "\n",
    "Entonces\n",
    "\n",
    "$$E[r_p]=wE[r_{s}]+(1-w)E[r_b]$$\n",
    "\n",
    "$$\\sigma_p^2=w^2\\sigma_{s}^2+(1-w)^2\\sigma_b^2+2w(1-w)\\rho_{s,b}\\sigma_s\\sigma_b$$"
   ]
  },
  {
   "cell_type": "code",
   "execution_count": 12,
   "metadata": {},
   "outputs": [],
   "source": [
    "# Vector de w variando entre 0 y 1 con n pasos\n",
    "N = 51\n",
    "w = np.linspace(0, 1, N)\n",
    "# Rendimientos esperados individuales\n",
    "es = data.loc['Stocks', 'Mean']\n",
    "eb = data.loc['Bonds', 'Mean']\n",
    "# Volatilidades individuales\n",
    "ss = data.loc['Stocks', 'Std']\n",
    "sb = data.loc['Bonds', 'Std']\n",
    "# Correlacion\n",
    "r = data.loc['CorrSB', 'Mean']"
   ]
  },
  {
   "cell_type": "code",
   "execution_count": 13,
   "metadata": {
    "scrolled": true
   },
   "outputs": [
    {
     "data": {
      "text/html": [
       "<div>\n",
       "<style scoped>\n",
       "    .dataframe tbody tr th:only-of-type {\n",
       "        vertical-align: middle;\n",
       "    }\n",
       "\n",
       "    .dataframe tbody tr th {\n",
       "        vertical-align: top;\n",
       "    }\n",
       "\n",
       "    .dataframe thead th {\n",
       "        text-align: right;\n",
       "    }\n",
       "</style>\n",
       "<table border=\"1\" class=\"dataframe\">\n",
       "  <thead>\n",
       "    <tr style=\"text-align: right;\">\n",
       "      <th></th>\n",
       "      <th>w</th>\n",
       "      <th>media</th>\n",
       "      <th>vol</th>\n",
       "    </tr>\n",
       "  </thead>\n",
       "  <tbody>\n",
       "    <tr>\n",
       "      <th>0</th>\n",
       "      <td>0.00</td>\n",
       "      <td>0.059100</td>\n",
       "      <td>0.083300</td>\n",
       "    </tr>\n",
       "    <tr>\n",
       "      <th>1</th>\n",
       "      <td>0.02</td>\n",
       "      <td>0.060298</td>\n",
       "      <td>0.082155</td>\n",
       "    </tr>\n",
       "    <tr>\n",
       "      <th>2</th>\n",
       "      <td>0.04</td>\n",
       "      <td>0.061496</td>\n",
       "      <td>0.081191</td>\n",
       "    </tr>\n",
       "    <tr>\n",
       "      <th>3</th>\n",
       "      <td>0.06</td>\n",
       "      <td>0.062694</td>\n",
       "      <td>0.080415</td>\n",
       "    </tr>\n",
       "    <tr>\n",
       "      <th>4</th>\n",
       "      <td>0.08</td>\n",
       "      <td>0.063892</td>\n",
       "      <td>0.079832</td>\n",
       "    </tr>\n",
       "    <tr>\n",
       "      <th>5</th>\n",
       "      <td>0.10</td>\n",
       "      <td>0.065090</td>\n",
       "      <td>0.079446</td>\n",
       "    </tr>\n",
       "    <tr>\n",
       "      <th>6</th>\n",
       "      <td>0.12</td>\n",
       "      <td>0.066288</td>\n",
       "      <td>0.079261</td>\n",
       "    </tr>\n",
       "    <tr>\n",
       "      <th>7</th>\n",
       "      <td>0.14</td>\n",
       "      <td>0.067486</td>\n",
       "      <td>0.079277</td>\n",
       "    </tr>\n",
       "    <tr>\n",
       "      <th>8</th>\n",
       "      <td>0.16</td>\n",
       "      <td>0.068684</td>\n",
       "      <td>0.079495</td>\n",
       "    </tr>\n",
       "    <tr>\n",
       "      <th>9</th>\n",
       "      <td>0.18</td>\n",
       "      <td>0.069882</td>\n",
       "      <td>0.079913</td>\n",
       "    </tr>\n",
       "    <tr>\n",
       "      <th>10</th>\n",
       "      <td>0.20</td>\n",
       "      <td>0.071080</td>\n",
       "      <td>0.080527</td>\n",
       "    </tr>\n",
       "    <tr>\n",
       "      <th>11</th>\n",
       "      <td>0.22</td>\n",
       "      <td>0.072278</td>\n",
       "      <td>0.081334</td>\n",
       "    </tr>\n",
       "    <tr>\n",
       "      <th>12</th>\n",
       "      <td>0.24</td>\n",
       "      <td>0.073476</td>\n",
       "      <td>0.082327</td>\n",
       "    </tr>\n",
       "    <tr>\n",
       "      <th>13</th>\n",
       "      <td>0.26</td>\n",
       "      <td>0.074674</td>\n",
       "      <td>0.083501</td>\n",
       "    </tr>\n",
       "    <tr>\n",
       "      <th>14</th>\n",
       "      <td>0.28</td>\n",
       "      <td>0.075872</td>\n",
       "      <td>0.084847</td>\n",
       "    </tr>\n",
       "    <tr>\n",
       "      <th>15</th>\n",
       "      <td>0.30</td>\n",
       "      <td>0.077070</td>\n",
       "      <td>0.086358</td>\n",
       "    </tr>\n",
       "    <tr>\n",
       "      <th>16</th>\n",
       "      <td>0.32</td>\n",
       "      <td>0.078268</td>\n",
       "      <td>0.088024</td>\n",
       "    </tr>\n",
       "    <tr>\n",
       "      <th>17</th>\n",
       "      <td>0.34</td>\n",
       "      <td>0.079466</td>\n",
       "      <td>0.089838</td>\n",
       "    </tr>\n",
       "    <tr>\n",
       "      <th>18</th>\n",
       "      <td>0.36</td>\n",
       "      <td>0.080664</td>\n",
       "      <td>0.091791</td>\n",
       "    </tr>\n",
       "    <tr>\n",
       "      <th>19</th>\n",
       "      <td>0.38</td>\n",
       "      <td>0.081862</td>\n",
       "      <td>0.093873</td>\n",
       "    </tr>\n",
       "    <tr>\n",
       "      <th>20</th>\n",
       "      <td>0.40</td>\n",
       "      <td>0.083060</td>\n",
       "      <td>0.096077</td>\n",
       "    </tr>\n",
       "    <tr>\n",
       "      <th>21</th>\n",
       "      <td>0.42</td>\n",
       "      <td>0.084258</td>\n",
       "      <td>0.098394</td>\n",
       "    </tr>\n",
       "    <tr>\n",
       "      <th>22</th>\n",
       "      <td>0.44</td>\n",
       "      <td>0.085456</td>\n",
       "      <td>0.100817</td>\n",
       "    </tr>\n",
       "    <tr>\n",
       "      <th>23</th>\n",
       "      <td>0.46</td>\n",
       "      <td>0.086654</td>\n",
       "      <td>0.103338</td>\n",
       "    </tr>\n",
       "    <tr>\n",
       "      <th>24</th>\n",
       "      <td>0.48</td>\n",
       "      <td>0.087852</td>\n",
       "      <td>0.105950</td>\n",
       "    </tr>\n",
       "    <tr>\n",
       "      <th>25</th>\n",
       "      <td>0.50</td>\n",
       "      <td>0.089050</td>\n",
       "      <td>0.108647</td>\n",
       "    </tr>\n",
       "    <tr>\n",
       "      <th>26</th>\n",
       "      <td>0.52</td>\n",
       "      <td>0.090248</td>\n",
       "      <td>0.111421</td>\n",
       "    </tr>\n",
       "    <tr>\n",
       "      <th>27</th>\n",
       "      <td>0.54</td>\n",
       "      <td>0.091446</td>\n",
       "      <td>0.114269</td>\n",
       "    </tr>\n",
       "    <tr>\n",
       "      <th>28</th>\n",
       "      <td>0.56</td>\n",
       "      <td>0.092644</td>\n",
       "      <td>0.117184</td>\n",
       "    </tr>\n",
       "    <tr>\n",
       "      <th>29</th>\n",
       "      <td>0.58</td>\n",
       "      <td>0.093842</td>\n",
       "      <td>0.120161</td>\n",
       "    </tr>\n",
       "    <tr>\n",
       "      <th>30</th>\n",
       "      <td>0.60</td>\n",
       "      <td>0.095040</td>\n",
       "      <td>0.123197</td>\n",
       "    </tr>\n",
       "    <tr>\n",
       "      <th>31</th>\n",
       "      <td>0.62</td>\n",
       "      <td>0.096238</td>\n",
       "      <td>0.126286</td>\n",
       "    </tr>\n",
       "    <tr>\n",
       "      <th>32</th>\n",
       "      <td>0.64</td>\n",
       "      <td>0.097436</td>\n",
       "      <td>0.129425</td>\n",
       "    </tr>\n",
       "    <tr>\n",
       "      <th>33</th>\n",
       "      <td>0.66</td>\n",
       "      <td>0.098634</td>\n",
       "      <td>0.132611</td>\n",
       "    </tr>\n",
       "    <tr>\n",
       "      <th>34</th>\n",
       "      <td>0.68</td>\n",
       "      <td>0.099832</td>\n",
       "      <td>0.135839</td>\n",
       "    </tr>\n",
       "    <tr>\n",
       "      <th>35</th>\n",
       "      <td>0.70</td>\n",
       "      <td>0.101030</td>\n",
       "      <td>0.139108</td>\n",
       "    </tr>\n",
       "    <tr>\n",
       "      <th>36</th>\n",
       "      <td>0.72</td>\n",
       "      <td>0.102228</td>\n",
       "      <td>0.142414</td>\n",
       "    </tr>\n",
       "    <tr>\n",
       "      <th>37</th>\n",
       "      <td>0.74</td>\n",
       "      <td>0.103426</td>\n",
       "      <td>0.145755</td>\n",
       "    </tr>\n",
       "    <tr>\n",
       "      <th>38</th>\n",
       "      <td>0.76</td>\n",
       "      <td>0.104624</td>\n",
       "      <td>0.149128</td>\n",
       "    </tr>\n",
       "    <tr>\n",
       "      <th>39</th>\n",
       "      <td>0.78</td>\n",
       "      <td>0.105822</td>\n",
       "      <td>0.152532</td>\n",
       "    </tr>\n",
       "    <tr>\n",
       "      <th>40</th>\n",
       "      <td>0.80</td>\n",
       "      <td>0.107020</td>\n",
       "      <td>0.155964</td>\n",
       "    </tr>\n",
       "    <tr>\n",
       "      <th>41</th>\n",
       "      <td>0.82</td>\n",
       "      <td>0.108218</td>\n",
       "      <td>0.159422</td>\n",
       "    </tr>\n",
       "    <tr>\n",
       "      <th>42</th>\n",
       "      <td>0.84</td>\n",
       "      <td>0.109416</td>\n",
       "      <td>0.162905</td>\n",
       "    </tr>\n",
       "    <tr>\n",
       "      <th>43</th>\n",
       "      <td>0.86</td>\n",
       "      <td>0.110614</td>\n",
       "      <td>0.166412</td>\n",
       "    </tr>\n",
       "    <tr>\n",
       "      <th>44</th>\n",
       "      <td>0.88</td>\n",
       "      <td>0.111812</td>\n",
       "      <td>0.169940</td>\n",
       "    </tr>\n",
       "    <tr>\n",
       "      <th>45</th>\n",
       "      <td>0.90</td>\n",
       "      <td>0.113010</td>\n",
       "      <td>0.173489</td>\n",
       "    </tr>\n",
       "    <tr>\n",
       "      <th>46</th>\n",
       "      <td>0.92</td>\n",
       "      <td>0.114208</td>\n",
       "      <td>0.177057</td>\n",
       "    </tr>\n",
       "    <tr>\n",
       "      <th>47</th>\n",
       "      <td>0.94</td>\n",
       "      <td>0.115406</td>\n",
       "      <td>0.180643</td>\n",
       "    </tr>\n",
       "    <tr>\n",
       "      <th>48</th>\n",
       "      <td>0.96</td>\n",
       "      <td>0.116604</td>\n",
       "      <td>0.184246</td>\n",
       "    </tr>\n",
       "    <tr>\n",
       "      <th>49</th>\n",
       "      <td>0.98</td>\n",
       "      <td>0.117802</td>\n",
       "      <td>0.187866</td>\n",
       "    </tr>\n",
       "    <tr>\n",
       "      <th>50</th>\n",
       "      <td>1.00</td>\n",
       "      <td>0.119000</td>\n",
       "      <td>0.191500</td>\n",
       "    </tr>\n",
       "  </tbody>\n",
       "</table>\n",
       "</div>"
      ],
      "text/plain": [
       "       w     media       vol\n",
       "0   0.00  0.059100  0.083300\n",
       "1   0.02  0.060298  0.082155\n",
       "2   0.04  0.061496  0.081191\n",
       "3   0.06  0.062694  0.080415\n",
       "4   0.08  0.063892  0.079832\n",
       "5   0.10  0.065090  0.079446\n",
       "6   0.12  0.066288  0.079261\n",
       "7   0.14  0.067486  0.079277\n",
       "8   0.16  0.068684  0.079495\n",
       "9   0.18  0.069882  0.079913\n",
       "10  0.20  0.071080  0.080527\n",
       "11  0.22  0.072278  0.081334\n",
       "12  0.24  0.073476  0.082327\n",
       "13  0.26  0.074674  0.083501\n",
       "14  0.28  0.075872  0.084847\n",
       "15  0.30  0.077070  0.086358\n",
       "16  0.32  0.078268  0.088024\n",
       "17  0.34  0.079466  0.089838\n",
       "18  0.36  0.080664  0.091791\n",
       "19  0.38  0.081862  0.093873\n",
       "20  0.40  0.083060  0.096077\n",
       "21  0.42  0.084258  0.098394\n",
       "22  0.44  0.085456  0.100817\n",
       "23  0.46  0.086654  0.103338\n",
       "24  0.48  0.087852  0.105950\n",
       "25  0.50  0.089050  0.108647\n",
       "26  0.52  0.090248  0.111421\n",
       "27  0.54  0.091446  0.114269\n",
       "28  0.56  0.092644  0.117184\n",
       "29  0.58  0.093842  0.120161\n",
       "30  0.60  0.095040  0.123197\n",
       "31  0.62  0.096238  0.126286\n",
       "32  0.64  0.097436  0.129425\n",
       "33  0.66  0.098634  0.132611\n",
       "34  0.68  0.099832  0.135839\n",
       "35  0.70  0.101030  0.139108\n",
       "36  0.72  0.102228  0.142414\n",
       "37  0.74  0.103426  0.145755\n",
       "38  0.76  0.104624  0.149128\n",
       "39  0.78  0.105822  0.152532\n",
       "40  0.80  0.107020  0.155964\n",
       "41  0.82  0.108218  0.159422\n",
       "42  0.84  0.109416  0.162905\n",
       "43  0.86  0.110614  0.166412\n",
       "44  0.88  0.111812  0.169940\n",
       "45  0.90  0.113010  0.173489\n",
       "46  0.92  0.114208  0.177057\n",
       "47  0.94  0.115406  0.180643\n",
       "48  0.96  0.116604  0.184246\n",
       "49  0.98  0.117802  0.187866\n",
       "50  1.00  0.119000  0.191500"
      ]
     },
     "execution_count": 13,
     "metadata": {},
     "output_type": "execute_result"
    }
   ],
   "source": [
    "# Crear un DataFrame cuyas columnas sean rendimiento\n",
    "# y volatilidad del portafolio para cada una de las w\n",
    "# generadas\n",
    "port = pd.DataFrame({\n",
    "    'w': w,\n",
    "    'media': w * es + (1 - w) * eb,\n",
    "    'vol': ((w * ss)**2 + ((1 - w) * sb)**2 + 2 * w * (1 - w) * r * ss * sb)**0.5\n",
    "})\n",
    "port"
   ]
  },
  {
   "cell_type": "code",
   "execution_count": 17,
   "metadata": {},
   "outputs": [
    {
     "data": {
      "image/png": "[encoded data removed]",
      "text/plain": [
       "<Figure size 432x288 with 1 Axes>"
      ]
     },
     "metadata": {
      "needs_background": "light"
     },
     "output_type": "display_data"
    }
   ],
   "source": [
    "# Gráfica\n",
    "plt.plot(port['vol'], port['media'], label='Portafolios')\n",
    "plt.xlabel(\"Volatilidad $\\sigma$\")\n",
    "plt.ylabel(\"Rendimiento esperado $E[r]$\")\n",
    "plt.legend(loc=\"upper left\", bbox_to_anchor=(1.05, 1))\n",
    "plt.grid()"
   ]
  },
  {
   "cell_type": "markdown",
   "metadata": {},
   "source": [
    "**Segundo.** Graficamos en la misma ventana, curvas de indiferencia."
   ]
  },
  {
   "cell_type": "code",
   "execution_count": 21,
   "metadata": {},
   "outputs": [],
   "source": [
    "# Niveles de utilidad \n",
    "U1, U2, U3 = 0.03, 0.06, 0.07\n",
    "# Coeficiente de aversión al riesgo\n",
    "g = 5\n",
    "# Curvas de indiferencia\n",
    "s = np.linspace(0.08, 0.19)\n",
    "er1 = 0.5 * g * s**2 + U1\n",
    "er2 = 0.5 * g * s**2 + U2\n",
    "er3 = 0.5 * g * s**2 + U3"
   ]
  },
  {
   "cell_type": "code",
   "execution_count": 22,
   "metadata": {},
   "outputs": [
    {
     "data": {
      "image/png": "[encoded data removed]",
      "text/plain": [
       "<Figure size 432x288 with 1 Axes>"
      ]
     },
     "metadata": {
      "needs_background": "light"
     },
     "output_type": "display_data"
    }
   ],
   "source": [
    "# Gráfica\n",
    "plt.plot(s, er1, 'g', lw=2, label=f'Curva de indiferencia de nivel $U_1$={U1}')\n",
    "plt.plot(s, er2, 'b', lw=2, label=f'Curva de indiferencia de nivel $U_2$={U2}')\n",
    "plt.plot(s, er3, 'r', lw=2, label=f'Curva de indiferencia de nivel $U_3$={U3}')\n",
    "plt.plot(port['vol'], port['media'], label='Portafolios')\n",
    "plt.xlabel(\"Volatilidad $\\sigma$\")\n",
    "plt.ylabel(\"Rendimiento esperado $E[r]$\")\n",
    "plt.legend(loc=\"upper left\", bbox_to_anchor=(1.05, 1))\n",
    "plt.grid()"
   ]
  },
  {
   "cell_type": "markdown",
   "metadata": {},
   "source": [
    "**Tercero.** La elección óptima está dada por la curva de indiferencia para el nivel de utilidad más alto que es tangente a la frontera media-varianza.\n",
    "- Claramente, esta selección depende del coeficiente de aversión al riesgo."
   ]
  },
  {
   "cell_type": "code",
   "execution_count": 23,
   "metadata": {},
   "outputs": [
    {
     "data": {
      "text/plain": [
       "[0.09, 0.11, 0.08, 0.09]"
      ]
     },
     "execution_count": 23,
     "metadata": {},
     "output_type": "execute_result"
    },
    {
     "data": {
      "image/png": "[encoded data removed]",
      "text/plain": [
       "<Figure size 432x288 with 1 Axes>"
      ]
     },
     "metadata": {
      "needs_background": "light"
     },
     "output_type": "display_data"
    }
   ],
   "source": [
    "# Gráfica con zoom\n",
    "plt.plot(s, er1, 'g', lw=2, label=f'Curva de indiferencia de nivel $U_1$={U1}')\n",
    "plt.plot(s, er2, 'b', lw=2, label=f'Curva de indiferencia de nivel $U_2$={U2}')\n",
    "plt.plot(s, er3, 'r', lw=2, label=f'Curva de indiferencia de nivel $U_3$={U3}')\n",
    "plt.plot(port['vol'], port['media'], label='Portafolios')\n",
    "plt.xlabel(\"Volatilidad $\\sigma$\")\n",
    "plt.ylabel(\"Rendimiento esperado $E[r]$\")\n",
    "plt.legend(loc=\"upper left\", bbox_to_anchor=(1.05, 1))\n",
    "plt.grid()\n",
    "plt.axis([0.09, 0.11, 0.08, 0.09])"
   ]
  },
  {
   "cell_type": "markdown",
   "metadata": {},
   "source": [
    "# Anuncios parroquiales\n",
    "\n",
    "## 1. Quiz la siguiente clase."
   ]
  },
  {
   "cell_type": "markdown",
   "metadata": {},
   "source": [
    "<script>\n",
    "  $(document).ready(function(){\n",
    "    $('div.prompt').hide();\n",
    "    $('div.back-to-top').hide();\n",
    "    $('nav#menubar').hide();\n",
    "    $('.breadcrumb').hide();\n",
    "    $('.hidden-print').hide();\n",
    "  });\n",
    "</script>\n",
    "\n",
    "<footer id=\"attribution\" style=\"float:right; color:#808080; background:#fff;\">\n",
    "Created with Jupyter by Esteban Jiménez Rodríguez.\n",
    "</footer>"
   ]
  }
 ],
 "metadata": {
  "kernelspec": {
   "display_name": "Python 3",
   "language": "python",
   "name": "python3"
  },
  "language_info": {
   "codemirror_mode": {
    "name": "ipython",
    "version": 3
   },
   "file_extension": ".py",
   "mimetype": "text/x-python",
   "name": "python",
   "nbconvert_exporter": "python",
   "pygments_lexer": "ipython3",
   "version": "3.7.6"
  }
 },
 "nbformat": 4,
 "nbformat_minor": 2
}
