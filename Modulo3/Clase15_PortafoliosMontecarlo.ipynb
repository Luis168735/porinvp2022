{
 "cells": [
  {
   "cell_type": "markdown",
   "metadata": {},
   "source": [
    "# Selección de portafolios usando simulación Montecarlo"
   ]
  },
  {
   "cell_type": "markdown",
   "metadata": {},
   "source": [
    "<img style=\"float: right; margin: 0px 0px 15px 15px;\" src=\"https://upload.wikimedia.org/wikipedia/commons/thumb/6/6e/Separation_theorem_of_MPT.svg/2000px-Separation_theorem_of_MPT.svg.png\" width=\"400px\" height=\"400px\" />\n",
    "\n",
    "> Durante el curso, específicamente en los módulos dos y tres, elaboramos toda la fundamentación de la teoría moderna de portafolios de Markowitz. Ésta se basa en la existencia de una línea especial en el espacio de rendimiento esperado vs. volatilidad, llamada **frontera de mínima varianza**.\n",
    "\n",
    "> Al finalizar el módulo 3, vimos que no importa la cantidad de activos riesgosos que se tengan, si encontramos dos portafolios sobre la frontera eficiente, podemos reconstruirla. Dos portafolios importantes que hallamos en el curso fueron:\n",
    "\n",
    "> - **Portafolio de mínima varianza**: minimizando la varianza.\n",
    "> - **Portafolio eficiente en media varianza**: maximizando el radio de Sharpe.\n",
    "\n",
    "> Por otra parte, resolver problemas de optimización cuando la cantidad de variables crece, se vuelve un problema complejo, computacionalmente hablando. Así que desarrollar métodos alternativos a la optimización que nos permitan encontrar los anteriores portafolios es de gran interés..."
   ]
  },
  {
   "cell_type": "markdown",
   "metadata": {},
   "source": [
    "## 1. Descargamos activos de la BMV\n",
    "\n",
    "Por simplicidad, y para entender las ideas alrededor de la selección de portafolios usando simulación montecarlo, utilizaremos únicamente tres activos de la BMV: America Movil SAB de CV L\t(AMXL.MX), Walmart de Mexico SAB de CV\t(WALMEX.MX) y Fomento Economico Mexicano S.A.B. de C.V.\t(FEMSAUBD.MX)."
   ]
  },
  {
   "cell_type": "markdown",
   "metadata": {},
   "source": [
    "1.1. Descargar precios mensuales ajustados en el cierre para los tres activos mencionados anteriormente en los últimos 5 años:"
   ]
  },
  {
   "cell_type": "code",
   "execution_count": 1,
   "metadata": {},
   "outputs": [],
   "source": [
    "# Importar librerías\n",
    "import numpy as np\n",
    "import pandas as pd\n",
    "import pandas_datareader.data as web\n",
    "import matplotlib.pyplot as plt\n",
    "%matplotlib inline"
   ]
  },
  {
   "cell_type": "code",
   "execution_count": 2,
   "metadata": {},
   "outputs": [],
   "source": [
    "# Función para descargar precios de cierre ajustados:\n",
    "def get_adj_closes(tickers, start_date=None, end_date=None, freq='m'):\n",
    "    # Fecha inicio por defecto (start_date='2010-01-01') y fecha fin por defecto (end_date=today)\n",
    "    # Descargamos DataFrame con todos los datos\n",
    "    closes = web.YahooDailyReader(symbols=tickers, start=start_date, end=end_date, interval=freq).read()['Adj Close']\n",
    "    # Se ordenan los índices de manera ascendente\n",
    "    closes.sort_index(inplace=True)\n",
    "    return closes"
   ]
  },
  {
   "cell_type": "code",
   "execution_count": 3,
   "metadata": {},
   "outputs": [],
   "source": [
    "# Descargar precios y graficar\n",
    "closes = get_adj_closes(\n",
    "    ['AMXL.MX', 'WALMEX.MX', 'FEMSAUBD.MX'],\n",
    "    start_date=\"2015-01-01\"\n",
    ")"
   ]
  },
  {
   "cell_type": "code",
   "execution_count": 6,
   "metadata": {},
   "outputs": [],
   "source": [
    "closes = closes.iloc[:-1]"
   ]
  },
  {
   "cell_type": "code",
   "execution_count": 7,
   "metadata": {},
   "outputs": [
    {
     "data": {
      "text/html": [
       "<div>\n",
       "<style scoped>\n",
       "    .dataframe tbody tr th:only-of-type {\n",
       "        vertical-align: middle;\n",
       "    }\n",
       "\n",
       "    .dataframe tbody tr th {\n",
       "        vertical-align: top;\n",
       "    }\n",
       "\n",
       "    .dataframe thead th {\n",
       "        text-align: right;\n",
       "    }\n",
       "</style>\n",
       "<table border=\"1\" class=\"dataframe\">\n",
       "  <thead>\n",
       "    <tr style=\"text-align: right;\">\n",
       "      <th>Symbols</th>\n",
       "      <th>AMXL.MX</th>\n",
       "      <th>WALMEX.MX</th>\n",
       "      <th>FEMSAUBD.MX</th>\n",
       "    </tr>\n",
       "    <tr>\n",
       "      <th>Date</th>\n",
       "      <th></th>\n",
       "      <th></th>\n",
       "      <th></th>\n",
       "    </tr>\n",
       "  </thead>\n",
       "  <tbody>\n",
       "    <tr>\n",
       "      <th>2015-01-01</th>\n",
       "      <td>13.153317</td>\n",
       "      <td>23.602196</td>\n",
       "      <td>110.028236</td>\n",
       "    </tr>\n",
       "    <tr>\n",
       "      <th>2015-02-01</th>\n",
       "      <td>13.128701</td>\n",
       "      <td>29.830887</td>\n",
       "      <td>125.443977</td>\n",
       "    </tr>\n",
       "    <tr>\n",
       "      <th>2015-03-01</th>\n",
       "      <td>12.849716</td>\n",
       "      <td>31.184980</td>\n",
       "      <td>125.777939</td>\n",
       "    </tr>\n",
       "    <tr>\n",
       "      <th>2015-04-01</th>\n",
       "      <td>13.218961</td>\n",
       "      <td>29.654783</td>\n",
       "      <td>122.236038</td>\n",
       "    </tr>\n",
       "    <tr>\n",
       "      <th>2015-05-01</th>\n",
       "      <td>13.292813</td>\n",
       "      <td>31.650650</td>\n",
       "      <td>120.434303</td>\n",
       "    </tr>\n",
       "  </tbody>\n",
       "</table>\n",
       "</div>"
      ],
      "text/plain": [
       "Symbols       AMXL.MX  WALMEX.MX  FEMSAUBD.MX\n",
       "Date                                         \n",
       "2015-01-01  13.153317  23.602196   110.028236\n",
       "2015-02-01  13.128701  29.830887   125.443977\n",
       "2015-03-01  12.849716  31.184980   125.777939\n",
       "2015-04-01  13.218961  29.654783   122.236038\n",
       "2015-05-01  13.292813  31.650650   120.434303"
      ]
     },
     "execution_count": 7,
     "metadata": {},
     "output_type": "execute_result"
    }
   ],
   "source": [
    "closes.head()"
   ]
  },
  {
   "cell_type": "code",
   "execution_count": 8,
   "metadata": {},
   "outputs": [
    {
     "data": {
      "text/html": [
       "<div>\n",
       "<style scoped>\n",
       "    .dataframe tbody tr th:only-of-type {\n",
       "        vertical-align: middle;\n",
       "    }\n",
       "\n",
       "    .dataframe tbody tr th {\n",
       "        vertical-align: top;\n",
       "    }\n",
       "\n",
       "    .dataframe thead th {\n",
       "        text-align: right;\n",
       "    }\n",
       "</style>\n",
       "<table border=\"1\" class=\"dataframe\">\n",
       "  <thead>\n",
       "    <tr style=\"text-align: right;\">\n",
       "      <th>Symbols</th>\n",
       "      <th>AMXL.MX</th>\n",
       "      <th>WALMEX.MX</th>\n",
       "      <th>FEMSAUBD.MX</th>\n",
       "    </tr>\n",
       "    <tr>\n",
       "      <th>Date</th>\n",
       "      <th></th>\n",
       "      <th></th>\n",
       "      <th></th>\n",
       "    </tr>\n",
       "  </thead>\n",
       "  <tbody>\n",
       "    <tr>\n",
       "      <th>2021-12-01</th>\n",
       "      <td>21.690001</td>\n",
       "      <td>75.726540</td>\n",
       "      <td>159.320007</td>\n",
       "    </tr>\n",
       "    <tr>\n",
       "      <th>2022-01-01</th>\n",
       "      <td>19.410000</td>\n",
       "      <td>70.139999</td>\n",
       "      <td>155.199997</td>\n",
       "    </tr>\n",
       "    <tr>\n",
       "      <th>2022-02-01</th>\n",
       "      <td>18.510000</td>\n",
       "      <td>77.900002</td>\n",
       "      <td>165.029999</td>\n",
       "    </tr>\n",
       "    <tr>\n",
       "      <th>2022-03-01</th>\n",
       "      <td>21.120001</td>\n",
       "      <td>81.919998</td>\n",
       "      <td>165.360001</td>\n",
       "    </tr>\n",
       "    <tr>\n",
       "      <th>2022-04-01</th>\n",
       "      <td>21.400000</td>\n",
       "      <td>78.669998</td>\n",
       "      <td>161.399994</td>\n",
       "    </tr>\n",
       "  </tbody>\n",
       "</table>\n",
       "</div>"
      ],
      "text/plain": [
       "Symbols       AMXL.MX  WALMEX.MX  FEMSAUBD.MX\n",
       "Date                                         \n",
       "2021-12-01  21.690001  75.726540   159.320007\n",
       "2022-01-01  19.410000  70.139999   155.199997\n",
       "2022-02-01  18.510000  77.900002   165.029999\n",
       "2022-03-01  21.120001  81.919998   165.360001\n",
       "2022-04-01  21.400000  78.669998   161.399994"
      ]
     },
     "execution_count": 8,
     "metadata": {},
     "output_type": "execute_result"
    }
   ],
   "source": [
    "closes.tail()"
   ]
  },
  {
   "cell_type": "markdown",
   "metadata": {},
   "source": [
    "1.2. A partir de los precios, obtener los rendimientos mensuales:"
   ]
  },
  {
   "cell_type": "code",
   "execution_count": 9,
   "metadata": {},
   "outputs": [],
   "source": [
    "# Obtener rendimientos mensuales y graficar\n",
    "ret = closes.pct_change().dropna()"
   ]
  },
  {
   "cell_type": "code",
   "execution_count": 10,
   "metadata": {},
   "outputs": [
    {
     "data": {
      "text/plain": [
       "<matplotlib.axes._subplots.AxesSubplot at 0x7fd07f52b310>"
      ]
     },
     "execution_count": 10,
     "metadata": {},
     "output_type": "execute_result"
    },
    {
     "data": {
      "image/png": "[encoded data removed]",
      "text/plain": [
       "<Figure size 432x288 with 1 Axes>"
      ]
     },
     "metadata": {
      "needs_background": "light"
     },
     "output_type": "display_data"
    }
   ],
   "source": [
    "ret.plot()"
   ]
  },
  {
   "cell_type": "markdown",
   "metadata": {},
   "source": [
    "1.3. Finalmente, a partir de los rendimientos mensuales, estimar la tendencia central de los rendimientos (rendimiento esperado), y caracterizar el riesgo de los activos (varianzas y covarianzas)"
   ]
  },
  {
   "cell_type": "code",
   "execution_count": 11,
   "metadata": {},
   "outputs": [
    {
     "data": {
      "text/html": [
       "<div>\n",
       "<style scoped>\n",
       "    .dataframe tbody tr th:only-of-type {\n",
       "        vertical-align: middle;\n",
       "    }\n",
       "\n",
       "    .dataframe tbody tr th {\n",
       "        vertical-align: top;\n",
       "    }\n",
       "\n",
       "    .dataframe thead th {\n",
       "        text-align: right;\n",
       "    }\n",
       "</style>\n",
       "<table border=\"1\" class=\"dataframe\">\n",
       "  <thead>\n",
       "    <tr style=\"text-align: right;\">\n",
       "      <th></th>\n",
       "      <th>media</th>\n",
       "      <th>vol</th>\n",
       "    </tr>\n",
       "    <tr>\n",
       "      <th>Symbols</th>\n",
       "      <th></th>\n",
       "      <th></th>\n",
       "    </tr>\n",
       "  </thead>\n",
       "  <tbody>\n",
       "    <tr>\n",
       "      <th>AMXL.MX</th>\n",
       "      <td>0.007645</td>\n",
       "      <td>0.065038</td>\n",
       "    </tr>\n",
       "    <tr>\n",
       "      <th>WALMEX.MX</th>\n",
       "      <td>0.015357</td>\n",
       "      <td>0.055016</td>\n",
       "    </tr>\n",
       "    <tr>\n",
       "      <th>FEMSAUBD.MX</th>\n",
       "      <td>0.005929</td>\n",
       "      <td>0.056561</td>\n",
       "    </tr>\n",
       "  </tbody>\n",
       "</table>\n",
       "</div>"
      ],
      "text/plain": [
       "                media       vol\n",
       "Symbols                        \n",
       "AMXL.MX      0.007645  0.065038\n",
       "WALMEX.MX    0.015357  0.055016\n",
       "FEMSAUBD.MX  0.005929  0.056561"
      ]
     },
     "execution_count": 11,
     "metadata": {},
     "output_type": "execute_result"
    }
   ],
   "source": [
    "# Resumen: rendimiento medio mensual y volatilidad\n",
    "summary = pd.DataFrame({\n",
    "    'media': ret.mean(),\n",
    "    'vol': ret.std()\n",
    "})\n",
    "summary"
   ]
  },
  {
   "cell_type": "code",
   "execution_count": 12,
   "metadata": {},
   "outputs": [
    {
     "data": {
      "text/html": [
       "<div>\n",
       "<style scoped>\n",
       "    .dataframe tbody tr th:only-of-type {\n",
       "        vertical-align: middle;\n",
       "    }\n",
       "\n",
       "    .dataframe tbody tr th {\n",
       "        vertical-align: top;\n",
       "    }\n",
       "\n",
       "    .dataframe thead th {\n",
       "        text-align: right;\n",
       "    }\n",
       "</style>\n",
       "<table border=\"1\" class=\"dataframe\">\n",
       "  <thead>\n",
       "    <tr style=\"text-align: right;\">\n",
       "      <th>Symbols</th>\n",
       "      <th>AMXL.MX</th>\n",
       "      <th>WALMEX.MX</th>\n",
       "      <th>FEMSAUBD.MX</th>\n",
       "    </tr>\n",
       "    <tr>\n",
       "      <th>Symbols</th>\n",
       "      <th></th>\n",
       "      <th></th>\n",
       "      <th></th>\n",
       "    </tr>\n",
       "  </thead>\n",
       "  <tbody>\n",
       "    <tr>\n",
       "      <th>AMXL.MX</th>\n",
       "      <td>0.004230</td>\n",
       "      <td>0.000617</td>\n",
       "      <td>0.001409</td>\n",
       "    </tr>\n",
       "    <tr>\n",
       "      <th>WALMEX.MX</th>\n",
       "      <td>0.000617</td>\n",
       "      <td>0.003027</td>\n",
       "      <td>0.001478</td>\n",
       "    </tr>\n",
       "    <tr>\n",
       "      <th>FEMSAUBD.MX</th>\n",
       "      <td>0.001409</td>\n",
       "      <td>0.001478</td>\n",
       "      <td>0.003199</td>\n",
       "    </tr>\n",
       "  </tbody>\n",
       "</table>\n",
       "</div>"
      ],
      "text/plain": [
       "Symbols       AMXL.MX  WALMEX.MX  FEMSAUBD.MX\n",
       "Symbols                                      \n",
       "AMXL.MX      0.004230   0.000617     0.001409\n",
       "WALMEX.MX    0.000617   0.003027     0.001478\n",
       "FEMSAUBD.MX  0.001409   0.001478     0.003199"
      ]
     },
     "execution_count": 12,
     "metadata": {},
     "output_type": "execute_result"
    }
   ],
   "source": [
    "# Matriz de covarianza\n",
    "sigma = ret.cov()\n",
    "sigma"
   ]
  },
  {
   "cell_type": "code",
   "execution_count": 13,
   "metadata": {},
   "outputs": [
    {
     "data": {
      "text/html": [
       "<div>\n",
       "<style scoped>\n",
       "    .dataframe tbody tr th:only-of-type {\n",
       "        vertical-align: middle;\n",
       "    }\n",
       "\n",
       "    .dataframe tbody tr th {\n",
       "        vertical-align: top;\n",
       "    }\n",
       "\n",
       "    .dataframe thead th {\n",
       "        text-align: right;\n",
       "    }\n",
       "</style>\n",
       "<table border=\"1\" class=\"dataframe\">\n",
       "  <thead>\n",
       "    <tr style=\"text-align: right;\">\n",
       "      <th>Symbols</th>\n",
       "      <th>AMXL.MX</th>\n",
       "      <th>WALMEX.MX</th>\n",
       "      <th>FEMSAUBD.MX</th>\n",
       "    </tr>\n",
       "    <tr>\n",
       "      <th>Symbols</th>\n",
       "      <th></th>\n",
       "      <th></th>\n",
       "      <th></th>\n",
       "    </tr>\n",
       "  </thead>\n",
       "  <tbody>\n",
       "    <tr>\n",
       "      <th>AMXL.MX</th>\n",
       "      <td>1.000000</td>\n",
       "      <td>0.172372</td>\n",
       "      <td>0.383017</td>\n",
       "    </tr>\n",
       "    <tr>\n",
       "      <th>WALMEX.MX</th>\n",
       "      <td>0.172372</td>\n",
       "      <td>1.000000</td>\n",
       "      <td>0.475132</td>\n",
       "    </tr>\n",
       "    <tr>\n",
       "      <th>FEMSAUBD.MX</th>\n",
       "      <td>0.383017</td>\n",
       "      <td>0.475132</td>\n",
       "      <td>1.000000</td>\n",
       "    </tr>\n",
       "  </tbody>\n",
       "</table>\n",
       "</div>"
      ],
      "text/plain": [
       "Symbols       AMXL.MX  WALMEX.MX  FEMSAUBD.MX\n",
       "Symbols                                      \n",
       "AMXL.MX      1.000000   0.172372     0.383017\n",
       "WALMEX.MX    0.172372   1.000000     0.475132\n",
       "FEMSAUBD.MX  0.383017   0.475132     1.000000"
      ]
     },
     "execution_count": 13,
     "metadata": {},
     "output_type": "execute_result"
    }
   ],
   "source": [
    "# Matriz de correlación\n",
    "corr = ret.corr()\n",
    "corr"
   ]
  },
  {
   "cell_type": "markdown",
   "metadata": {},
   "source": [
    "___\n",
    "## 2. Selección de portafolios mediante montecarlo\n",
    "\n",
    "Antes de continuar, consultamos la tasa libre de riesgo al día de hoy en [Banxico](http://www.banxico.org.mx/):"
   ]
  },
  {
   "cell_type": "code",
   "execution_count": 14,
   "metadata": {},
   "outputs": [
    {
     "data": {
      "text/plain": [
       "0.0054333333333333326"
      ]
     },
     "execution_count": 14,
     "metadata": {},
     "output_type": "execute_result"
    }
   ],
   "source": [
    "# Tasa libre de riesgo\n",
    "rf = 0.0652 / 12\n",
    "rf"
   ]
  },
  {
   "cell_type": "markdown",
   "metadata": {},
   "source": [
    "¿Alguien tiene alguna idea de lo que es simulación montecarlo?\n",
    "\n",
    "En cuanto a la selección de portafolios, lo que hacemos es simular una gran cantidad de posibles portafolios que se pueden construir con los activos dados (generamos muchas ponderaciones posibles), y calculamos su rendimiento esperado y volatilidad para dibujarlos, y así poder identificar objetos de interés:\n",
    "\n",
    "- frontera eficiente;\n",
    "- portafolio de mínima varianza;\n",
    "- portafolio EMV..."
   ]
  },
  {
   "cell_type": "code",
   "execution_count": 15,
   "metadata": {},
   "outputs": [],
   "source": [
    "# Definimos el número de portafolios que simularemos, y la cantidad de activos que tenemos\n",
    "n_port = 100000\n",
    "n_act = 3"
   ]
  },
  {
   "cell_type": "markdown",
   "metadata": {},
   "source": [
    "2.1. Generamos los portafolios"
   ]
  },
  {
   "cell_type": "code",
   "execution_count": 16,
   "metadata": {},
   "outputs": [
    {
     "name": "stdout",
     "output_type": "stream",
     "text": [
      "Help on built-in function dirichlet:\n",
      "\n",
      "dirichlet(...) method of numpy.random.mtrand.RandomState instance\n",
      "    dirichlet(alpha, size=None)\n",
      "    \n",
      "    Draw samples from the Dirichlet distribution.\n",
      "    \n",
      "    Draw `size` samples of dimension k from a Dirichlet distribution. A\n",
      "    Dirichlet-distributed random variable can be seen as a multivariate\n",
      "    generalization of a Beta distribution. The Dirichlet distribution\n",
      "    is a conjugate prior of a multinomial distribution in Bayesian\n",
      "    inference.\n",
      "    \n",
      "    .. note::\n",
      "        New code should use the ``dirichlet`` method of a ``default_rng()``\n",
      "        instance instead; see `random-quick-start`.\n",
      "    \n",
      "    Parameters\n",
      "    ----------\n",
      "    alpha : array\n",
      "        Parameter of the distribution (k dimension for sample of\n",
      "        dimension k).\n",
      "    size : int or tuple of ints, optional\n",
      "        Output shape.  If the given shape is, e.g., ``(m, n, k)``, then\n",
      "        ``m * n * k`` samples are drawn.  Default is None, in which case a\n",
      "        single value is returned.\n",
      "    \n",
      "    Returns\n",
      "    -------\n",
      "    samples : ndarray,\n",
      "        The drawn samples, of shape (size, alpha.ndim).\n",
      "    \n",
      "    Raises\n",
      "    -------\n",
      "    ValueError\n",
      "        If any value in alpha is less than or equal to zero\n",
      "    \n",
      "    See Also\n",
      "    --------\n",
      "    Generator.dirichlet: which should be used for new code.\n",
      "    \n",
      "    Notes\n",
      "    -----\n",
      "    The Dirichlet distribution is a distribution over vectors\n",
      "    :math:`x` that fulfil the conditions :math:`x_i>0` and\n",
      "    :math:`\\sum_{i=1}^k x_i = 1`.\n",
      "    \n",
      "    The probability density function :math:`p` of a\n",
      "    Dirichlet-distributed random vector :math:`X` is\n",
      "    proportional to\n",
      "    \n",
      "    .. math:: p(x) \\propto \\prod_{i=1}^{k}{x^{\\alpha_i-1}_i},\n",
      "    \n",
      "    where :math:`\\alpha` is a vector containing the positive\n",
      "    concentration parameters.\n",
      "    \n",
      "    The method uses the following property for computation: let :math:`Y`\n",
      "    be a random vector which has components that follow a standard gamma\n",
      "    distribution, then :math:`X = \\frac{1}{\\sum_{i=1}^k{Y_i}} Y`\n",
      "    is Dirichlet-distributed\n",
      "    \n",
      "    References\n",
      "    ----------\n",
      "    .. [1] David McKay, \"Information Theory, Inference and Learning\n",
      "           Algorithms,\" chapter 23,\n",
      "           http://www.inference.org.uk/mackay/itila/\n",
      "    .. [2] Wikipedia, \"Dirichlet distribution\",\n",
      "           https://en.wikipedia.org/wiki/Dirichlet_distribution\n",
      "    \n",
      "    Examples\n",
      "    --------\n",
      "    Taking an example cited in Wikipedia, this distribution can be used if\n",
      "    one wanted to cut strings (each of initial length 1.0) into K pieces\n",
      "    with different lengths, where each piece had, on average, a designated\n",
      "    average length, but allowing some variation in the relative sizes of\n",
      "    the pieces.\n",
      "    \n",
      "    >>> s = np.random.dirichlet((10, 5, 3), 20).transpose()\n",
      "    \n",
      "    >>> import matplotlib.pyplot as plt\n",
      "    >>> plt.barh(range(20), s[0])\n",
      "    >>> plt.barh(range(20), s[1], left=s[0], color='g')\n",
      "    >>> plt.barh(range(20), s[2], left=s[0]+s[1], color='r')\n",
      "    >>> plt.title(\"Lengths of Strings\")\n",
      "\n"
     ]
    }
   ],
   "source": [
    "# Ayuda en la funcion numpy.random.dirichlet\n",
    "help(np.random.dirichlet)"
   ]
  },
  {
   "cell_type": "code",
   "execution_count": 17,
   "metadata": {
    "scrolled": true
   },
   "outputs": [
    {
     "data": {
      "text/plain": [
       "array([[4.79350042e-02, 4.60644807e-01, 4.91420189e-01],\n",
       "       [3.93154945e-02, 3.39432584e-01, 6.21251921e-01],\n",
       "       [5.76484822e-02, 4.34398376e-01, 5.07953142e-01],\n",
       "       ...,\n",
       "       [1.54754570e-02, 7.28664329e-01, 2.55860214e-01],\n",
       "       [5.74190928e-01, 1.90230376e-01, 2.35578695e-01],\n",
       "       [4.24266707e-04, 1.04103218e-01, 8.95472516e-01]])"
      ]
     },
     "execution_count": 17,
     "metadata": {},
     "output_type": "execute_result"
    }
   ],
   "source": [
    "# Generar una matriz de pesos de n_portafolios x n_activos,\n",
    "# tal que cada fila sume uno (recordar restricción)\n",
    "W = np.random.dirichlet((1,) * n_act, size=n_port)\n",
    "W"
   ]
  },
  {
   "cell_type": "code",
   "execution_count": 18,
   "metadata": {},
   "outputs": [
    {
     "data": {
      "text/plain": [
       "(100000, 3)"
      ]
     },
     "execution_count": 18,
     "metadata": {},
     "output_type": "execute_result"
    }
   ],
   "source": [
    "W.shape"
   ]
  },
  {
   "cell_type": "code",
   "execution_count": 19,
   "metadata": {},
   "outputs": [
    {
     "data": {
      "text/plain": [
       "array([1., 1., 1., ..., 1., 1., 1.])"
      ]
     },
     "execution_count": 19,
     "metadata": {},
     "output_type": "execute_result"
    }
   ],
   "source": [
    "W.sum(axis=1)"
   ]
  },
  {
   "cell_type": "code",
   "execution_count": 20,
   "metadata": {},
   "outputs": [
    {
     "data": {
      "text/plain": [
       "array([0.01035453, 0.00919697, 0.01012375, ..., 0.0128257 , 0.00870797,\n",
       "       0.00691159])"
      ]
     },
     "execution_count": 20,
     "metadata": {},
     "output_type": "execute_result"
    }
   ],
   "source": [
    "# Rendimientos y volatilidad de cada portafolios\n",
    "rendimientos = W.dot(summary['media'])\n",
    "rendimientos"
   ]
  },
  {
   "cell_type": "code",
   "execution_count": 21,
   "metadata": {},
   "outputs": [
    {
     "data": {
      "text/plain": [
       "(100000,)"
      ]
     },
     "execution_count": 21,
     "metadata": {},
     "output_type": "execute_result"
    }
   ],
   "source": [
    "rendimientos.shape"
   ]
  },
  {
   "cell_type": "code",
   "execution_count": 24,
   "metadata": {},
   "outputs": [],
   "source": [
    "volatilidades = np.zeros(n_port)\n",
    "for i in range(n_port):\n",
    "    volatilidades[i] = (W[i, :].T.dot(sigma).dot(W[i, :]))**0.5"
   ]
  },
  {
   "cell_type": "code",
   "execution_count": 23,
   "metadata": {},
   "outputs": [
    {
     "data": {
      "text/plain": [
       "(100000,)"
      ]
     },
     "execution_count": 23,
     "metadata": {},
     "output_type": "execute_result"
    }
   ],
   "source": [
    "volatilidades.shape"
   ]
  },
  {
   "cell_type": "code",
   "execution_count": 25,
   "metadata": {},
   "outputs": [
    {
     "data": {
      "text/plain": [
       "array([0.10521846, 0.07849708, 0.1005377 , ..., 0.15108949, 0.06783869,\n",
       "       0.02757007])"
      ]
     },
     "execution_count": 25,
     "metadata": {},
     "output_type": "execute_result"
    }
   ],
   "source": [
    "# Radio de Sharpe\n",
    "rs = (rendimientos - rf) / volatilidades\n",
    "rs"
   ]
  },
  {
   "cell_type": "code",
   "execution_count": 29,
   "metadata": {},
   "outputs": [],
   "source": [
    "# Data frame de resultados\n",
    "portafolios = pd.DataFrame({\n",
    "    'media': rendimientos,\n",
    "    'vol': volatilidades,\n",
    "    'rs': rs\n",
    "})\n",
    "portafolios['w1'] = W[:, 0]\n",
    "portafolios['w2'] = W[:, 1]\n",
    "portafolios['w3'] = W[:, 2]"
   ]
  },
  {
   "cell_type": "code",
   "execution_count": 33,
   "metadata": {},
   "outputs": [
    {
     "data": {
      "text/plain": [
       "array([[4.79350042e-02, 4.60644807e-01, 4.91420189e-01],\n",
       "       [3.93154945e-02, 3.39432584e-01, 6.21251921e-01],\n",
       "       [5.76484822e-02, 4.34398376e-01, 5.07953142e-01],\n",
       "       ...,\n",
       "       [1.54754570e-02, 7.28664329e-01, 2.55860214e-01],\n",
       "       [5.74190928e-01, 1.90230376e-01, 2.35578695e-01],\n",
       "       [4.24266707e-04, 1.04103218e-01, 8.95472516e-01]])"
      ]
     },
     "execution_count": 33,
     "metadata": {},
     "output_type": "execute_result"
    }
   ],
   "source": [
    "W"
   ]
  },
  {
   "cell_type": "code",
   "execution_count": 30,
   "metadata": {},
   "outputs": [
    {
     "data": {
      "text/html": [
       "<div>\n",
       "<style scoped>\n",
       "    .dataframe tbody tr th:only-of-type {\n",
       "        vertical-align: middle;\n",
       "    }\n",
       "\n",
       "    .dataframe tbody tr th {\n",
       "        vertical-align: top;\n",
       "    }\n",
       "\n",
       "    .dataframe thead th {\n",
       "        text-align: right;\n",
       "    }\n",
       "</style>\n",
       "<table border=\"1\" class=\"dataframe\">\n",
       "  <thead>\n",
       "    <tr style=\"text-align: right;\">\n",
       "      <th></th>\n",
       "      <th>media</th>\n",
       "      <th>vol</th>\n",
       "      <th>rs</th>\n",
       "      <th>w1</th>\n",
       "      <th>w2</th>\n",
       "      <th>w3</th>\n",
       "    </tr>\n",
       "  </thead>\n",
       "  <tbody>\n",
       "    <tr>\n",
       "      <th>0</th>\n",
       "      <td>0.010355</td>\n",
       "      <td>0.046771</td>\n",
       "      <td>0.105218</td>\n",
       "      <td>0.047935</td>\n",
       "      <td>0.460645</td>\n",
       "      <td>0.491420</td>\n",
       "    </tr>\n",
       "    <tr>\n",
       "      <th>1</th>\n",
       "      <td>0.009197</td>\n",
       "      <td>0.047946</td>\n",
       "      <td>0.078497</td>\n",
       "      <td>0.039315</td>\n",
       "      <td>0.339433</td>\n",
       "      <td>0.621252</td>\n",
       "    </tr>\n",
       "    <tr>\n",
       "      <th>2</th>\n",
       "      <td>0.010124</td>\n",
       "      <td>0.046653</td>\n",
       "      <td>0.100538</td>\n",
       "      <td>0.057648</td>\n",
       "      <td>0.434398</td>\n",
       "      <td>0.507953</td>\n",
       "    </tr>\n",
       "    <tr>\n",
       "      <th>3</th>\n",
       "      <td>0.007776</td>\n",
       "      <td>0.047137</td>\n",
       "      <td>0.049700</td>\n",
       "      <td>0.399591</td>\n",
       "      <td>0.123154</td>\n",
       "      <td>0.477255</td>\n",
       "    </tr>\n",
       "    <tr>\n",
       "      <th>4</th>\n",
       "      <td>0.007045</td>\n",
       "      <td>0.049009</td>\n",
       "      <td>0.032878</td>\n",
       "      <td>0.418420</td>\n",
       "      <td>0.042151</td>\n",
       "      <td>0.539430</td>\n",
       "    </tr>\n",
       "  </tbody>\n",
       "</table>\n",
       "</div>"
      ],
      "text/plain": [
       "      media       vol        rs        w1        w2        w3\n",
       "0  0.010355  0.046771  0.105218  0.047935  0.460645  0.491420\n",
       "1  0.009197  0.047946  0.078497  0.039315  0.339433  0.621252\n",
       "2  0.010124  0.046653  0.100538  0.057648  0.434398  0.507953\n",
       "3  0.007776  0.047137  0.049700  0.399591  0.123154  0.477255\n",
       "4  0.007045  0.049009  0.032878  0.418420  0.042151  0.539430"
      ]
     },
     "execution_count": 30,
     "metadata": {},
     "output_type": "execute_result"
    }
   ],
   "source": [
    "portafolios.head()"
   ]
  },
  {
   "cell_type": "markdown",
   "metadata": {},
   "source": [
    "2.2. Aproximar portafolio de mínima varianza y portafolio eficiente en media varianza"
   ]
  },
  {
   "cell_type": "code",
   "execution_count": 38,
   "metadata": {},
   "outputs": [
    {
     "data": {
      "text/plain": [
       "media    0.015186\n",
       "vol      0.054068\n",
       "rs       0.180377\n",
       "w1       0.021875\n",
       "w2       0.977852\n",
       "w3       0.000273\n",
       "Name: 5929, dtype: float64"
      ]
     },
     "execution_count": 38,
     "metadata": {},
     "output_type": "execute_result"
    }
   ],
   "source": [
    "# Portafolio EMV\n",
    "emv = portafolios.loc[portafolios['rs'].idxmax()]\n",
    "emv"
   ]
  },
  {
   "cell_type": "code",
   "execution_count": 45,
   "metadata": {},
   "outputs": [
    {
     "data": {
      "text/html": [
       "<div>\n",
       "<style scoped>\n",
       "    .dataframe tbody tr th:only-of-type {\n",
       "        vertical-align: middle;\n",
       "    }\n",
       "\n",
       "    .dataframe tbody tr th {\n",
       "        vertical-align: top;\n",
       "    }\n",
       "\n",
       "    .dataframe thead th {\n",
       "        text-align: right;\n",
       "    }\n",
       "</style>\n",
       "<table border=\"1\" class=\"dataframe\">\n",
       "  <thead>\n",
       "    <tr style=\"text-align: right;\">\n",
       "      <th></th>\n",
       "      <th>media</th>\n",
       "      <th>vol</th>\n",
       "    </tr>\n",
       "    <tr>\n",
       "      <th>Symbols</th>\n",
       "      <th></th>\n",
       "      <th></th>\n",
       "    </tr>\n",
       "  </thead>\n",
       "  <tbody>\n",
       "    <tr>\n",
       "      <th>AMXL.MX</th>\n",
       "      <td>0.007645</td>\n",
       "      <td>0.065038</td>\n",
       "    </tr>\n",
       "    <tr>\n",
       "      <th>WALMEX.MX</th>\n",
       "      <td>0.015357</td>\n",
       "      <td>0.055016</td>\n",
       "    </tr>\n",
       "    <tr>\n",
       "      <th>FEMSAUBD.MX</th>\n",
       "      <td>0.005929</td>\n",
       "      <td>0.056561</td>\n",
       "    </tr>\n",
       "  </tbody>\n",
       "</table>\n",
       "</div>"
      ],
      "text/plain": [
       "                media       vol\n",
       "Symbols                        \n",
       "AMXL.MX      0.007645  0.065038\n",
       "WALMEX.MX    0.015357  0.055016\n",
       "FEMSAUBD.MX  0.005929  0.056561"
      ]
     },
     "execution_count": 45,
     "metadata": {},
     "output_type": "execute_result"
    }
   ],
   "source": [
    "summary"
   ]
  },
  {
   "cell_type": "code",
   "execution_count": 39,
   "metadata": {},
   "outputs": [
    {
     "data": {
      "text/plain": [
       "media    0.010595\n",
       "vol      0.043633\n",
       "rs       0.118303\n",
       "w1       0.300118\n",
       "w2       0.440284\n",
       "w3       0.259598\n",
       "Name: 51576, dtype: float64"
      ]
     },
     "execution_count": 39,
     "metadata": {},
     "output_type": "execute_result"
    }
   ],
   "source": [
    "# Portafolio mínima varianza\n",
    "minvar = portafolios.loc[portafolios['vol'].idxmin()]\n",
    "minvar"
   ]
  },
  {
   "cell_type": "markdown",
   "metadata": {},
   "source": [
    "2.3. Dibujar todos los portafolios en el espacio de rendimiento esperado vs. volatilidad"
   ]
  },
  {
   "cell_type": "code",
   "execution_count": 44,
   "metadata": {},
   "outputs": [
    {
     "data": {
      "text/plain": [
       "<matplotlib.colorbar.Colorbar at 0x7fd072fee490>"
      ]
     },
     "execution_count": 44,
     "metadata": {},
     "output_type": "execute_result"
    },
    {
     "data": {
      "image/png": "[encoded data removed]",
      "text/plain": [
       "<Figure size 432x288 with 2 Axes>"
      ]
     },
     "metadata": {
      "needs_background": "light"
     },
     "output_type": "display_data"
    }
   ],
   "source": [
    "# Gráfica\n",
    "plt.scatter(portafolios['vol'], portafolios['media'], c=portafolios['rs'], cmap='inferno')\n",
    "plt.plot(emv['vol'], emv['media'], '*g', ms=10)\n",
    "plt.plot(minvar['vol'], minvar['media'], '*b', ms=10)\n",
    "plt.axis([0.04, 0.068, 0.005, 0.017])\n",
    "plt.colorbar()"
   ]
  },
  {
   "cell_type": "markdown",
   "metadata": {},
   "source": [
    "## 3. Comparar con los resultados obtenidos por optimización"
   ]
  },
  {
   "cell_type": "markdown",
   "metadata": {},
   "source": [
    "3.1. Portafolio de mínima varianza"
   ]
  },
  {
   "cell_type": "code",
   "execution_count": null,
   "metadata": {},
   "outputs": [],
   "source": [
    "# Importamos funcion minimize del modulo optimize de scipy\n"
   ]
  },
  {
   "cell_type": "code",
   "execution_count": null,
   "metadata": {},
   "outputs": [],
   "source": [
    "## Construcción de parámetros\n",
    "# 1. Sigma: matriz de varianza-covarianza\n",
    "\n",
    "# 2. Eind: rendimientos esperados activos individuales\n"
   ]
  },
  {
   "cell_type": "code",
   "execution_count": null,
   "metadata": {},
   "outputs": [],
   "source": [
    "# Función objetivo\n"
   ]
  },
  {
   "cell_type": "code",
   "execution_count": null,
   "metadata": {},
   "outputs": [],
   "source": [
    "# Dato inicial\n",
    "\n",
    "# Cotas de las variables\n",
    "\n",
    "# Restricciones\n"
   ]
  },
  {
   "cell_type": "code",
   "execution_count": null,
   "metadata": {},
   "outputs": [],
   "source": []
  },
  {
   "cell_type": "code",
   "execution_count": null,
   "metadata": {},
   "outputs": [],
   "source": [
    "# Portafolio Min var\n"
   ]
  },
  {
   "cell_type": "code",
   "execution_count": null,
   "metadata": {},
   "outputs": [],
   "source": [
    "# Comparar\n"
   ]
  },
  {
   "cell_type": "code",
   "execution_count": null,
   "metadata": {},
   "outputs": [],
   "source": [
    "minvar"
   ]
  },
  {
   "cell_type": "markdown",
   "metadata": {},
   "source": [
    "3.2. Portafolio EMV"
   ]
  },
  {
   "cell_type": "code",
   "execution_count": null,
   "metadata": {},
   "outputs": [],
   "source": [
    "# Función objetivo\n"
   ]
  },
  {
   "cell_type": "code",
   "execution_count": null,
   "metadata": {},
   "outputs": [],
   "source": [
    "# Dato inicial\n",
    "\n",
    "# Cotas de las variables\n",
    "\n",
    "# Restricciones\n"
   ]
  },
  {
   "cell_type": "code",
   "execution_count": null,
   "metadata": {},
   "outputs": [],
   "source": [
    "# Portafolio EMV\n"
   ]
  },
  {
   "cell_type": "code",
   "execution_count": null,
   "metadata": {},
   "outputs": [],
   "source": [
    "# Comparar\n"
   ]
  },
  {
   "cell_type": "code",
   "execution_count": null,
   "metadata": {},
   "outputs": [],
   "source": []
  },
  {
   "cell_type": "markdown",
   "metadata": {},
   "source": [
    "# Conclusión\n",
    "\n",
    "- Tenemos una herramienta para aproximar toda la teoría de Markowitz.\n",
    "\n",
    "- Esta herramienta no involucra optimización, solo generar números aleatorios en el símplex unitario.\n",
    "\n",
    "- Por tanto, no le afecta el problema de dimensión (cuando tenemos muchos activos)."
   ]
  },
  {
   "cell_type": "markdown",
   "metadata": {},
   "source": [
    "# Anuncios parroquiales\n",
    "\n",
    "## 1. Fin de módulo. Abrir Clase0 y revisar objetivos del módulo."
   ]
  },
  {
   "cell_type": "markdown",
   "metadata": {},
   "source": [
    "<script>\n",
    "  $(document).ready(function(){\n",
    "    $('div.prompt').hide();\n",
    "    $('div.back-to-top').hide();\n",
    "    $('nav#menubar').hide();\n",
    "    $('.breadcrumb').hide();\n",
    "    $('.hidden-print').hide();\n",
    "  });\n",
    "</script>\n",
    "\n",
    "<footer id=\"attribution\" style=\"float:right; color:#808080; background:#fff;\">\n",
    "Created with Jupyter by Esteban Jiménez Rodríguez.\n",
    "</footer>"
   ]
  }
 ],
 "metadata": {
  "kernelspec": {
   "display_name": "Python 3",
   "language": "python",
   "name": "python3"
  },
  "language_info": {
   "codemirror_mode": {
    "name": "ipython",
    "version": 3
   },
   "file_extension": ".py",
   "mimetype": "text/x-python",
   "name": "python",
   "nbconvert_exporter": "python",
   "pygments_lexer": "ipython3",
   "version": "3.7.6"
  }
 },
 "nbformat": 4,
 "nbformat_minor": 2
}
